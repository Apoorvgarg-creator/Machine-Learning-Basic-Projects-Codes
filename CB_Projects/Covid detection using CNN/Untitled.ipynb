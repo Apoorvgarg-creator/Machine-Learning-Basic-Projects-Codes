{
 "cells": [
  {
   "cell_type": "code",
   "execution_count": 1,
   "metadata": {},
   "outputs": [],
   "source": [
    "TRAIN_PATH = 'CovidDT/Train'\n",
    "VAL_PATH = 'CovidDT/Test'"
   ]
  },
  {
   "cell_type": "code",
   "execution_count": 2,
   "metadata": {},
   "outputs": [],
   "source": [
    "import numpy as np\n",
    "import matplotlib.pyplot as li\n",
    "import keras\n",
    "from keras.layers import *\n",
    "from keras.models import *\n",
    "from keras.preprocessing import image"
   ]
  },
  {
   "cell_type": "code",
   "execution_count": 3,
   "metadata": {},
   "outputs": [],
   "source": [
    "# CNN based model in keras"
   ]
  },
  {
   "cell_type": "code",
   "execution_count": 6,
   "metadata": {},
   "outputs": [],
   "source": [
    "model  = Sequential()\n",
    "\n",
    "model.add(Conv2D(32,kernel_size=(3,3),activation ='relu',input_shape=(224,224,3)))\n",
    "model.add(Conv2D(64,kernel_size=(3,3),activation ='relu'))\n",
    "model.add(MaxPooling2D(pool_size=(2,2)))\n",
    "model.add(Dropout(0.25))\n",
    "        \n",
    "model.add(Conv2D(64,kernel_size=(3,3),activation ='relu'))\n",
    "model.add(MaxPooling2D(pool_size=(2,2)))\n",
    "model.add(Dropout(0.25))\n",
    "\n",
    "model.add(Conv2D(128,kernel_size=(3,3),activation ='relu'))\n",
    "model.add(MaxPooling2D(pool_size=(2,2)))\n",
    "model.add(Dropout(0.25))\n",
    "\n",
    "model.add(Flatten())\n",
    "model.add(Dense(64,activation='relu'))\n",
    "model.add(Dropout(0.5))\n",
    "model.add(Dense(1,activation='sigmoid'))\n",
    "          \n",
    "model.compile(loss=keras.losses.binary_crossentropy,optimizer='adam',metrics=['accuracy'])\n",
    "                                  "
   ]
  },
  {
   "cell_type": "code",
   "execution_count": 7,
   "metadata": {},
   "outputs": [],
   "source": [
    "# train generator \n",
    "train_datagen = image.ImageDataGenerator(\n",
    "    rescale = 1/255,\n",
    "    shear_range = 0.2,\n",
    "    zoom_range = 0.2,\n",
    "    horizontal_flip= True\n",
    "\n",
    ")\n",
    "\n",
    "# test data\n",
    "test_dataset = image.ImageDataGenerator(rescale=1/255)\n"
   ]
  },
  {
   "cell_type": "code",
   "execution_count": 10,
   "metadata": {},
   "outputs": [
    {
     "name": "stdout",
     "output_type": "stream",
     "text": [
      "Found 602 images belonging to 2 classes.\n",
      "{'Covid': 0, 'Normal': 1}\n",
      "Found 88 images belonging to 2 classes.\n"
     ]
    }
   ],
   "source": [
    "train_gen = train_datagen.flow_from_directory(\n",
    "    'CovidDT/Train',\n",
    "    target_size = (224,224),\n",
    "    batch_size = 32,\n",
    "    class_mode= 'binary'\n",
    ")\n",
    "print(train_gen.class_indices)\n",
    "validation_gen = test_dataset.flow_from_directory(\n",
    "    'CovidDT/Test',\n",
    "    target_size = (224,224),\n",
    "    batch_size = 32,\n",
    "    class_mode= 'binary'\n",
    ")"
   ]
  },
  {
   "cell_type": "code",
   "execution_count": 11,
   "metadata": {},
   "outputs": [
    {
     "name": "stdout",
     "output_type": "stream",
     "text": [
      "WARNING:tensorflow:From <ipython-input-11-57ea332bc73c>:1: Model.fit_generator (from tensorflow.python.keras.engine.training) is deprecated and will be removed in a future version.\n",
      "Instructions for updating:\n",
      "Please use Model.fit, which supports generators.\n",
      "Epoch 1/10\n",
      "8/8 [==============================] - 22s 3s/step - loss: 1.3994 - accuracy: 0.5938 - val_loss: 0.6919 - val_accuracy: 0.5000\n",
      "Epoch 2/10\n",
      "8/8 [==============================] - 22s 3s/step - loss: 0.6759 - accuracy: 0.5703 - val_loss: 0.6658 - val_accuracy: 0.5938\n",
      "Epoch 3/10\n",
      "8/8 [==============================] - 21s 3s/step - loss: 0.6429 - accuracy: 0.6000 - val_loss: 0.5630 - val_accuracy: 0.8438\n",
      "Epoch 4/10\n",
      "8/8 [==============================] - 21s 3s/step - loss: 0.4923 - accuracy: 0.7695 - val_loss: 0.5246 - val_accuracy: 0.6406\n",
      "Epoch 5/10\n",
      "8/8 [==============================] - 20s 3s/step - loss: 0.3414 - accuracy: 0.8360 - val_loss: 0.2878 - val_accuracy: 0.8750\n",
      "Epoch 6/10\n",
      "8/8 [==============================] - 21s 3s/step - loss: 0.2794 - accuracy: 0.9000 - val_loss: 0.2366 - val_accuracy: 0.9375\n",
      "Epoch 7/10\n",
      "8/8 [==============================] - 21s 3s/step - loss: 0.3539 - accuracy: 0.8920 - val_loss: 0.2893 - val_accuracy: 0.9062\n",
      "Epoch 8/10\n",
      "8/8 [==============================] - 22s 3s/step - loss: 0.2896 - accuracy: 0.8984 - val_loss: 0.2538 - val_accuracy: 0.8906\n",
      "Epoch 9/10\n",
      "8/8 [==============================] - 22s 3s/step - loss: 0.2430 - accuracy: 0.9141 - val_loss: 0.2146 - val_accuracy: 0.8750\n",
      "Epoch 10/10\n",
      "8/8 [==============================] - 22s 3s/step - loss: 0.2014 - accuracy: 0.9297 - val_loss: 0.1635 - val_accuracy: 0.9062\n"
     ]
    }
   ],
   "source": [
    "hist = model.fit_generator(train_gen,steps_per_epoch=8,epochs=10,validation_data=validation_gen,validation_steps=2)"
   ]
  },
  {
   "cell_type": "code",
   "execution_count": null,
   "metadata": {},
   "outputs": [],
   "source": [
    "## Grad cam technique on medical images\n"
   ]
  }
 ],
 "metadata": {
  "kernelspec": {
   "display_name": "Python 3",
   "language": "python",
   "name": "python3"
  },
  "language_info": {
   "codemirror_mode": {
    "name": "ipython",
    "version": 3
   },
   "file_extension": ".py",
   "mimetype": "text/x-python",
   "name": "python",
   "nbconvert_exporter": "python",
   "pygments_lexer": "ipython3",
   "version": "3.8.3"
  }
 },
 "nbformat": 4,
 "nbformat_minor": 4
}