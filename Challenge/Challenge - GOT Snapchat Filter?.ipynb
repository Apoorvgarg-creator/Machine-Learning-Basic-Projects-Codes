#%%
import cv2

#%%
# cap = cv2.VideoCapture(0)
frame = cv2.imread("Jamie_Before.jpg")
#%%
eyes_cascade = cv2.CascadeClassifier("frontalEyes35x16.xml")
#%%
eyes_data = []
while True:
    # ret, frame = cap.read()
    # if not ret:
    #     continue

    eyes = eyes_cascade.detectMultiScale(frame,1.2,3)
    for eye in eyes[:-1]:
        x, y, w, h = eye
        cv2.rectangle(frame, (x, y), (x + w, y + h), (0, 255, 255), 2)

    cv2.imshow('GOT ', frame)

    key = cv2.waitKey(1) & 0xFF
    if key == ord('q'):
        break

# cap.release()
cv2.destroyAllWindows()
#%%
