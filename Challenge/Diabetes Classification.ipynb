{
 "cells": [
  {
   "cell_type": "markdown",
   "metadata": {
    "collapsed": true,
    "pycharm": {
     "name": "#%% md\n"
    }
   },
   "source": [
    "## Diabetes Classification"
   ]
  },
  {
   "cell_type": "code",
   "execution_count": 95,
   "metadata": {
    "pycharm": {
     "name": "#%%\n"
    }
   },
   "outputs": [],
   "source": [
    "import pandas as pd\n",
    "import matplotlib.pyplot as plt\n",
    "import numpy as np"
   ]
  },
  {
   "cell_type": "code",
   "execution_count": 96,
   "metadata": {
    "pycharm": {
     "name": "#%%\n"
    }
   },
   "outputs": [],
   "source": [
    "# Read the dataset\n",
    "X_Train = pd.read_csv('Training Data/Diabetes_XTrain.csv')\n",
    "Y_Train = pd.read_csv('Training Data/Diabetes_YTrain.csv')"
   ]
  },
  {
   "cell_type": "code",
   "execution_count": 97,
   "metadata": {
    "pycharm": {
     "name": "#%%\n"
    }
   },
   "outputs": [
    {
     "name": "stdout",
     "output_type": "stream",
     "text": [
      "(576, 8)\n",
      "(576, 1)\n"
     ]
    }
   ],
   "source": [
    "X_Train = X_Train.values\n",
    "Y_Train =Y_Train.values\n",
    "print(X_Train.shape)\n",
    "print(Y_Train.shape)"
   ]
  },
  {
   "cell_type": "code",
   "execution_count": 98,
   "metadata": {},
   "outputs": [],
   "source": [
    "# Normalisation  --> Method 1\n",
    "# ut = np.mean(X_Train,axis=0)\n",
    "# std_st = np.std(X_Train,axis=0)\n",
    "# print(ut)\n",
    "# print(std_st)\n",
    "# Normalisation --> method 2 Min max scaling\n",
    "min = np.min(X_Train,axis=0)\n",
    "max = np.max(X_Train,axis=0)"
   ]
  },
  {
   "cell_type": "code",
   "execution_count": 99,
   "metadata": {
    "pycharm": {
     "name": "#%%\n"
    }
   },
   "outputs": [
    {
     "name": "stdout",
     "output_type": "stream",
     "text": [
      "          0         1         2         3         4         5         6  \\\n",
      "0  0.411765  0.844221  0.721311  0.666667  0.431452  0.569300  0.302733   \n",
      "1  0.470588  0.552764  0.622951  0.000000  0.000000  0.414307  0.067891   \n",
      "2  0.411765  0.738693  0.622951  0.000000  0.000000  0.587183  0.076430   \n",
      "3  0.117647  0.502513  0.540984  0.317460  0.120968  0.490313  0.336892   \n",
      "4  0.235294  0.648241  0.704918  0.317460  0.362903  0.523100  0.065329   \n",
      "\n",
      "          7  \n",
      "0  0.316667  \n",
      "1  0.616667  \n",
      "2  0.366667  \n",
      "3  0.116667  \n",
      "4  0.033333  \n"
     ]
    }
   ],
   "source": [
    "#\n",
    "# X_Train =(X_Train - ut)/std_st\n",
    "X_Train = (X_Train - min)/(max - min)\n",
    "print(pd.DataFrame(X_Train[:5,:]))"
   ]
  },
  {
   "cell_type": "code",
   "execution_count": 100,
   "metadata": {
    "pycharm": {
     "name": "#%%\n"
    }
   },
   "outputs": [
    {
     "name": "stdout",
     "output_type": "stream",
     "text": [
      "(576,)\n"
     ]
    }
   ],
   "source": [
    "Y_Train = Y_Train.reshape((-1,))\n",
    "print(Y_Train.shape)"
   ]
  },
  {
   "cell_type": "code",
   "execution_count": 101,
   "metadata": {
    "pycharm": {
     "name": "#%%\n"
    }
   },
   "outputs": [],
   "source": [
    "def dist(x1,x2):\n",
    "    return np.sqrt(sum((x1-x2)**2))\n",
    "\n",
    "def knn(X,Y,querypoint,k=5):\n",
    "    vals = []\n",
    "    m = X.shape[0]\n",
    "    for i in range(m):\n",
    "        d = dist(querypoint,X[i])\n",
    "        vals.append((d,Y[i]))\n",
    "    vals = sorted(vals)\n",
    "    # Nearest k points\n",
    "    vals = vals[:k]\n",
    "    vals = np.array(vals,dtype =object)\n",
    "    new_vals = np.unique(vals[:,1],return_counts=True)\n",
    "\n",
    "    index = new_vals[1].argmax()\n",
    "    pred = new_vals[0][index]\n",
    "    return pred"
   ]
  },
  {
   "cell_type": "code",
   "execution_count": 102,
   "metadata": {
    "pycharm": {
     "name": "#%%\n"
    }
   },
   "outputs": [],
   "source": [
    "# Testing the dataset\n",
    "X_test = pd.read_csv('/Users/apoorvgarg/Downloads/Diabetes_Xtest.csv')"
   ]
  },
  {
   "cell_type": "code",
   "execution_count": 103,
   "outputs": [],
   "source": [
    "X_test = X_test.values\n",
    "X_test =(X_test - min)/(max - min)\n"
   ],
   "metadata": {
    "collapsed": false,
    "pycharm": {
     "name": "#%%\n"
    }
   }
  },
  {
   "cell_type": "code",
   "execution_count": 104,
   "metadata": {
    "pycharm": {
     "name": "#%%\n"
    }
   },
   "outputs": [
    {
     "name": "stdout",
     "output_type": "stream",
     "text": [
      "[[0.         0.90452261 0.73770492 ... 0.54396423 0.10076857 0.23333333]\n",
      " [0.11764706 0.46733668 0.52459016 ... 0.56631893 0.25448335 0.03333333]\n",
      " [0.11764706 0.57286432 0.55737705 ... 0.42771982 0.0059778  0.06666667]\n",
      " ...\n",
      " [0.         0.81407035 0.62295082 ... 0.73919523 0.12211785 0.08333333]\n",
      " [0.70588235 0.42211055 0.59016393 ... 0.44262295 0.09350982 0.41666667]\n",
      " [0.         0.47236181 0.         ... 0.         0.07600342 0.06666667]]\n",
      "192\n",
      "13\n"
     ]
    }
   ],
   "source": [
    "print(X_test)\n",
    "n= X_test.shape[0]\n",
    "print(n)\n",
    "k =int(np.sqrt(n))\n",
    "print(k)"
   ]
  },
  {
   "cell_type": "code",
   "execution_count": 110,
   "outputs": [],
   "source": [
    "ans = []\n",
    "for test in X_test:\n",
    "    x = knn(X_Train,Y_Train,test,k=25)\n",
    "    ans.append(int(x))"
   ],
   "metadata": {
    "collapsed": false,
    "pycharm": {
     "name": "#%%\n"
    }
   }
  },
  {
   "cell_type": "code",
   "execution_count": 112,
   "outputs": [],
   "source": [
    "df = pd.DataFrame(np.array(ans),columns=[\"Outcome\"])\n",
    "\n",
    "df.to_csv('Ans_dia5.csv',index=False)"
   ],
   "metadata": {
    "collapsed": false,
    "pycharm": {
     "name": "#%%\n"
    }
   }
  },
  {
   "cell_type": "code",
   "execution_count": 111,
   "outputs": [],
   "source": [],
   "metadata": {
    "collapsed": false,
    "pycharm": {
     "name": "#%%\n"
    }
   }
  }
 ],
 "metadata": {
  "kernelspec": {
   "display_name": "Python 3",
   "language": "python",
   "name": "python3"
  },
  "language_info": {
   "codemirror_mode": {
    "name": "ipython",
    "version": 3
   },
   "file_extension": ".py",
   "mimetype": "text/x-python",
   "name": "python",
   "nbconvert_exporter": "python",
   "pygments_lexer": "ipython3",
   "version": "3.8.5"
  }
 },
 "nbformat": 4,
 "nbformat_minor": 1
}