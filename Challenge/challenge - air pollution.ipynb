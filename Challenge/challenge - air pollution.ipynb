{
 "cells": [
  {
   "cell_type": "code",
   "execution_count": 50,
   "metadata": {
    "collapsed": true
   },
   "outputs": [],
   "source": [
    "import pandas as pd\n",
    "import numpy as np\n",
    "import matplotlib.pyplot as plt"
   ]
  },
  {
   "cell_type": "code",
   "execution_count": 51,
   "outputs": [],
   "source": [
    "df = pd.read_csv(\"Train_Airpollution.csv\")"
   ],
   "metadata": {
    "collapsed": false,
    "pycharm": {
     "name": "#%%\n"
    }
   }
  },
  {
   "cell_type": "code",
   "execution_count": 52,
   "outputs": [
    {
     "data": {
      "text/plain": "   feature_1  feature_2  feature_3  feature_4  feature_5     target\n0   0.293416  -0.945599  -0.421105   0.406816   0.525662 -82.154667\n1  -0.836084  -0.189228  -0.776403  -1.053831   0.597997 -48.897960\n2   0.236425   0.132836  -0.147723   0.699854  -0.187364  77.270371\n3   0.175312   0.143194  -0.581111  -0.122107  -1.292168  -2.988581\n4  -1.693011   0.542712  -2.798729  -0.686723   1.244077 -37.596722",
      "text/html": "<div>\n<style scoped>\n    .dataframe tbody tr th:only-of-type {\n        vertical-align: middle;\n    }\n\n    .dataframe tbody tr th {\n        vertical-align: top;\n    }\n\n    .dataframe thead th {\n        text-align: right;\n    }\n</style>\n<table border=\"1\" class=\"dataframe\">\n  <thead>\n    <tr style=\"text-align: right;\">\n      <th></th>\n      <th>feature_1</th>\n      <th>feature_2</th>\n      <th>feature_3</th>\n      <th>feature_4</th>\n      <th>feature_5</th>\n      <th>target</th>\n    </tr>\n  </thead>\n  <tbody>\n    <tr>\n      <th>0</th>\n      <td>0.293416</td>\n      <td>-0.945599</td>\n      <td>-0.421105</td>\n      <td>0.406816</td>\n      <td>0.525662</td>\n      <td>-82.154667</td>\n    </tr>\n    <tr>\n      <th>1</th>\n      <td>-0.836084</td>\n      <td>-0.189228</td>\n      <td>-0.776403</td>\n      <td>-1.053831</td>\n      <td>0.597997</td>\n      <td>-48.897960</td>\n    </tr>\n    <tr>\n      <th>2</th>\n      <td>0.236425</td>\n      <td>0.132836</td>\n      <td>-0.147723</td>\n      <td>0.699854</td>\n      <td>-0.187364</td>\n      <td>77.270371</td>\n    </tr>\n    <tr>\n      <th>3</th>\n      <td>0.175312</td>\n      <td>0.143194</td>\n      <td>-0.581111</td>\n      <td>-0.122107</td>\n      <td>-1.292168</td>\n      <td>-2.988581</td>\n    </tr>\n    <tr>\n      <th>4</th>\n      <td>-1.693011</td>\n      <td>0.542712</td>\n      <td>-2.798729</td>\n      <td>-0.686723</td>\n      <td>1.244077</td>\n      <td>-37.596722</td>\n    </tr>\n  </tbody>\n</table>\n</div>"
     },
     "execution_count": 52,
     "metadata": {},
     "output_type": "execute_result"
    }
   ],
   "source": [
    "df.head()"
   ],
   "metadata": {
    "collapsed": false,
    "pycharm": {
     "name": "#%%\n"
    }
   }
  },
  {
   "cell_type": "code",
   "execution_count": 53,
   "outputs": [],
   "source": [
    "X = df.drop(\"target\",axis=1)\n",
    "y = pd.DataFrame(df[\"target\"])"
   ],
   "metadata": {
    "collapsed": false,
    "pycharm": {
     "name": "#%%\n"
    }
   }
  },
  {
   "cell_type": "code",
   "execution_count": 54,
   "outputs": [
    {
     "data": {
      "text/plain": "   feature_1  feature_2  feature_3  feature_4  feature_5\n0   0.293416  -0.945599  -0.421105   0.406816   0.525662\n1  -0.836084  -0.189228  -0.776403  -1.053831   0.597997\n2   0.236425   0.132836  -0.147723   0.699854  -0.187364\n3   0.175312   0.143194  -0.581111  -0.122107  -1.292168\n4  -1.693011   0.542712  -2.798729  -0.686723   1.244077",
      "text/html": "<div>\n<style scoped>\n    .dataframe tbody tr th:only-of-type {\n        vertical-align: middle;\n    }\n\n    .dataframe tbody tr th {\n        vertical-align: top;\n    }\n\n    .dataframe thead th {\n        text-align: right;\n    }\n</style>\n<table border=\"1\" class=\"dataframe\">\n  <thead>\n    <tr style=\"text-align: right;\">\n      <th></th>\n      <th>feature_1</th>\n      <th>feature_2</th>\n      <th>feature_3</th>\n      <th>feature_4</th>\n      <th>feature_5</th>\n    </tr>\n  </thead>\n  <tbody>\n    <tr>\n      <th>0</th>\n      <td>0.293416</td>\n      <td>-0.945599</td>\n      <td>-0.421105</td>\n      <td>0.406816</td>\n      <td>0.525662</td>\n    </tr>\n    <tr>\n      <th>1</th>\n      <td>-0.836084</td>\n      <td>-0.189228</td>\n      <td>-0.776403</td>\n      <td>-1.053831</td>\n      <td>0.597997</td>\n    </tr>\n    <tr>\n      <th>2</th>\n      <td>0.236425</td>\n      <td>0.132836</td>\n      <td>-0.147723</td>\n      <td>0.699854</td>\n      <td>-0.187364</td>\n    </tr>\n    <tr>\n      <th>3</th>\n      <td>0.175312</td>\n      <td>0.143194</td>\n      <td>-0.581111</td>\n      <td>-0.122107</td>\n      <td>-1.292168</td>\n    </tr>\n    <tr>\n      <th>4</th>\n      <td>-1.693011</td>\n      <td>0.542712</td>\n      <td>-2.798729</td>\n      <td>-0.686723</td>\n      <td>1.244077</td>\n    </tr>\n  </tbody>\n</table>\n</div>"
     },
     "execution_count": 54,
     "metadata": {},
     "output_type": "execute_result"
    }
   ],
   "source": [
    "X.head()"
   ],
   "metadata": {
    "collapsed": false,
    "pycharm": {
     "name": "#%%\n"
    }
   }
  },
  {
   "cell_type": "code",
   "execution_count": 55,
   "outputs": [
    {
     "data": {
      "text/plain": "      target\n0 -82.154667\n1 -48.897960\n2  77.270371\n3  -2.988581\n4 -37.596722",
      "text/html": "<div>\n<style scoped>\n    .dataframe tbody tr th:only-of-type {\n        vertical-align: middle;\n    }\n\n    .dataframe tbody tr th {\n        vertical-align: top;\n    }\n\n    .dataframe thead th {\n        text-align: right;\n    }\n</style>\n<table border=\"1\" class=\"dataframe\">\n  <thead>\n    <tr style=\"text-align: right;\">\n      <th></th>\n      <th>target</th>\n    </tr>\n  </thead>\n  <tbody>\n    <tr>\n      <th>0</th>\n      <td>-82.154667</td>\n    </tr>\n    <tr>\n      <th>1</th>\n      <td>-48.897960</td>\n    </tr>\n    <tr>\n      <th>2</th>\n      <td>77.270371</td>\n    </tr>\n    <tr>\n      <th>3</th>\n      <td>-2.988581</td>\n    </tr>\n    <tr>\n      <th>4</th>\n      <td>-37.596722</td>\n    </tr>\n  </tbody>\n</table>\n</div>"
     },
     "execution_count": 55,
     "metadata": {},
     "output_type": "execute_result"
    }
   ],
   "source": [
    "y.head()"
   ],
   "metadata": {
    "collapsed": false,
    "pycharm": {
     "name": "#%%\n"
    }
   }
  },
  {
   "cell_type": "code",
   "execution_count": 56,
   "outputs": [],
   "source": [
    "X = X.values"
   ],
   "metadata": {
    "collapsed": false,
    "pycharm": {
     "name": "#%%\n"
    }
   }
  },
  {
   "cell_type": "code",
   "execution_count": 57,
   "outputs": [],
   "source": [
    "u = np.mean(X,axis=0)\n",
    "std = np.std(X,axis=0)"
   ],
   "metadata": {
    "collapsed": false,
    "pycharm": {
     "name": "#%%\n"
    }
   }
  },
  {
   "cell_type": "code",
   "execution_count": 58,
   "outputs": [],
   "source": [
    "# Normalize the data\n",
    "X = (X-u)/std"
   ],
   "metadata": {
    "collapsed": false,
    "pycharm": {
     "name": "#%%\n"
    }
   }
  },
  {
   "cell_type": "code",
   "execution_count": 59,
   "outputs": [
    {
     "name": "stdout",
     "output_type": "stream",
     "text": [
      "(5,)\n"
     ]
    }
   ],
   "source": [
    "print(u.shape)\n",
    "y = y.values"
   ],
   "metadata": {
    "collapsed": false,
    "pycharm": {
     "name": "#%%\n"
    }
   }
  },
  {
   "cell_type": "code",
   "execution_count": 60,
   "outputs": [
    {
     "name": "stdout",
     "output_type": "stream",
     "text": [
      "(1600, 6)\n",
      "1.0\n"
     ]
    }
   ],
   "source": [
    "ones = np.ones((X.shape[0],1))\n",
    "X = np.hstack((ones,X))\n",
    "print(X.shape)\n",
    "print(X[0,0])\n",
    "y = y.reshape((-1,))"
   ],
   "metadata": {
    "collapsed": false,
    "pycharm": {
     "name": "#%%\n"
    }
   }
  },
  {
   "cell_type": "code",
   "execution_count": 61,
   "outputs": [],
   "source": [
    "# Linear Regression\n",
    "def hypothesis(X,theta):\n",
    "    y_ = np.dot(X,theta)\n",
    "    return y_\n",
    "\n",
    "def error(X,y,theta):\n",
    "    error = 0.0\n",
    "    m = X.shape[0]\n",
    "    y_ = hypothesis(X,theta)\n",
    "    error = np.sum((y_ - y)**2)\n",
    "\n",
    "    return error/m\n",
    "\n",
    "def gradient(X,y,theta):\n",
    "    grad = np.zeros((X.shape[1],))\n",
    "    y_ = hypothesis(X,theta)\n",
    "    grad = np.dot(X.T,(y_- y))\n",
    "\n",
    "    return grad/X.shape[0]\n",
    "\n",
    "def gradient_descent(X,y,learning_rate=0.1,max_steps=300):\n",
    "    theta = np.zeros((X.shape[1],))\n",
    "    error_list =[]\n",
    "\n",
    "    for i in range(max_steps):\n",
    "        error_list.append(error(X,y,theta))\n",
    "\n",
    "        # gradient descent\n",
    "        grad = gradient(X,y,theta)\n",
    "        theta = theta - learning_rate*grad\n",
    "\n",
    "    return theta,error_list\n"
   ],
   "metadata": {
    "collapsed": false,
    "pycharm": {
     "name": "#%%\n"
    }
   }
  },
  {
   "cell_type": "code",
   "execution_count": 62,
   "outputs": [],
   "source": [
    "theta,error_list = gradient_descent(X,y)"
   ],
   "metadata": {
    "collapsed": false,
    "pycharm": {
     "name": "#%%\n"
    }
   }
  },
  {
   "cell_type": "code",
   "execution_count": 63,
   "outputs": [
    {
     "data": {
      "text/plain": "array([ 0.31883538, 29.59359198, 94.65067706,  8.37544469, 45.52303635,\n        2.46461552])"
     },
     "execution_count": 63,
     "metadata": {},
     "output_type": "execute_result"
    }
   ],
   "source": [
    "theta"
   ],
   "metadata": {
    "collapsed": false,
    "pycharm": {
     "name": "#%%\n"
    }
   }
  },
  {
   "cell_type": "code",
   "execution_count": 64,
   "outputs": [
    {
     "data": {
      "text/plain": "[<matplotlib.lines.Line2D at 0x7f967c8129d0>]"
     },
     "execution_count": 64,
     "metadata": {},
     "output_type": "execute_result"
    },
    {
     "data": {
      "text/plain": "<Figure size 432x288 with 1 Axes>",
      "image/png": "[encoded data removed]"
     },
     "metadata": {
      "needs_background": "light"
     },
     "output_type": "display_data"
    }
   ],
   "source": [
    "plt.plot(error_list)"
   ],
   "metadata": {
    "collapsed": false,
    "pycharm": {
     "name": "#%%\n"
    }
   }
  },
  {
   "cell_type": "code",
   "execution_count": 68,
   "outputs": [],
   "source": [
    "X_test = pd.read_csv('Test_Air pollution.csv').values"
   ],
   "metadata": {
    "collapsed": false,
    "pycharm": {
     "name": "#%%\n"
    }
   }
  },
  {
   "cell_type": "code",
   "execution_count": 69,
   "outputs": [],
   "source": [
    "ones = np.ones((X_test.shape[0],1))\n",
    "X_test = np.hstack((ones,X_test))\n",
    "y_ = pd.DataFrame(hypothesis(X_test,theta))"
   ],
   "metadata": {
    "collapsed": false,
    "pycharm": {
     "name": "#%%\n"
    }
   }
  },
  {
   "cell_type": "code",
   "execution_count": 71,
   "outputs": [],
   "source": [
    "y_.to_csv('Ans_Air.csv')"
   ],
   "metadata": {
    "collapsed": false,
    "pycharm": {
     "name": "#%%\n"
    }
   }
  },
  {
   "cell_type": "code",
   "execution_count": null,
   "outputs": [],
   "source": [],
   "metadata": {
    "collapsed": false,
    "pycharm": {
     "name": "#%%\n"
    }
   }
  }
 ],
 "metadata": {
  "kernelspec": {
   "display_name": "Python 3",
   "language": "python",
   "name": "python3"
  },
  "language_info": {
   "codemirror_mode": {
    "name": "ipython",
    "version": 2
   },
   "file_extension": ".py",
   "mimetype": "text/x-python",
   "name": "python",
   "nbconvert_exporter": "python",
   "pygments_lexer": "ipython2",
   "version": "2.7.6"
  }
 },
 "nbformat": 4,
 "nbformat_minor": 0
}