{
 "cells": [
  {
   "cell_type": "markdown",
   "metadata": {
    "collapsed": true,
    "pycharm": {
     "name": "#%% md\n"
    }
   },
   "source": [
    "### Challenge - Chemical Segregation"
   ]
  },
  {
   "cell_type": "code",
   "execution_count": null,
   "outputs": [],
   "source": [
    "import pandas as pd\n",
    "import matplotlib.pyplot as plt\n",
    "import numpy as np"
   ],
   "metadata": {
    "collapsed": false,
    "pycharm": {
     "name": "#%%\n"
    }
   }
  },
  {
   "cell_type": "code",
   "execution_count": 143,
   "outputs": [],
   "source": [
    "X_train = pd.read_csv(\"chem seg datasets/Training Data_chemical_seg/Logistic_X_Train.csv\")\n",
    "Y_train = pd.read_csv(\"chem seg datasets/Training Data_chemical_seg/Logistic_Y_Train.csv\")"
   ],
   "metadata": {
    "collapsed": false,
    "pycharm": {
     "name": "#%%\n"
    }
   }
  },
  {
   "cell_type": "code",
   "execution_count": 144,
   "outputs": [
    {
     "data": {
      "text/plain": "         f1        f2        f3\n0 -1.239375  0.749101 -0.528515\n1 -1.036070  0.801436 -1.283712\n2 -0.615579  1.579521 -1.391927\n3  1.335978  1.348651  1.433564\n4  0.658925  1.300019  0.571603",
      "text/html": "<div>\n<style scoped>\n    .dataframe tbody tr th:only-of-type {\n        vertical-align: middle;\n    }\n\n    .dataframe tbody tr th {\n        vertical-align: top;\n    }\n\n    .dataframe thead th {\n        text-align: right;\n    }\n</style>\n<table border=\"1\" class=\"dataframe\">\n  <thead>\n    <tr style=\"text-align: right;\">\n      <th></th>\n      <th>f1</th>\n      <th>f2</th>\n      <th>f3</th>\n    </tr>\n  </thead>\n  <tbody>\n    <tr>\n      <th>0</th>\n      <td>-1.239375</td>\n      <td>0.749101</td>\n      <td>-0.528515</td>\n    </tr>\n    <tr>\n      <th>1</th>\n      <td>-1.036070</td>\n      <td>0.801436</td>\n      <td>-1.283712</td>\n    </tr>\n    <tr>\n      <th>2</th>\n      <td>-0.615579</td>\n      <td>1.579521</td>\n      <td>-1.391927</td>\n    </tr>\n    <tr>\n      <th>3</th>\n      <td>1.335978</td>\n      <td>1.348651</td>\n      <td>1.433564</td>\n    </tr>\n    <tr>\n      <th>4</th>\n      <td>0.658925</td>\n      <td>1.300019</td>\n      <td>0.571603</td>\n    </tr>\n  </tbody>\n</table>\n</div>"
     },
     "execution_count": 144,
     "metadata": {},
     "output_type": "execute_result"
    }
   ],
   "source": [
    "X_train.head()"
   ],
   "metadata": {
    "collapsed": false,
    "pycharm": {
     "name": "#%%\n"
    }
   }
  },
  {
   "cell_type": "code",
   "execution_count": 145,
   "outputs": [
    {
     "data": {
      "text/plain": "   label\n0      1\n1      1\n2      1\n3      0\n4      0",
      "text/html": "<div>\n<style scoped>\n    .dataframe tbody tr th:only-of-type {\n        vertical-align: middle;\n    }\n\n    .dataframe tbody tr th {\n        vertical-align: top;\n    }\n\n    .dataframe thead th {\n        text-align: right;\n    }\n</style>\n<table border=\"1\" class=\"dataframe\">\n  <thead>\n    <tr style=\"text-align: right;\">\n      <th></th>\n      <th>label</th>\n    </tr>\n  </thead>\n  <tbody>\n    <tr>\n      <th>0</th>\n      <td>1</td>\n    </tr>\n    <tr>\n      <th>1</th>\n      <td>1</td>\n    </tr>\n    <tr>\n      <th>2</th>\n      <td>1</td>\n    </tr>\n    <tr>\n      <th>3</th>\n      <td>0</td>\n    </tr>\n    <tr>\n      <th>4</th>\n      <td>0</td>\n    </tr>\n  </tbody>\n</table>\n</div>"
     },
     "execution_count": 145,
     "metadata": {},
     "output_type": "execute_result"
    }
   ],
   "source": [
    "Y_train.head()"
   ],
   "metadata": {
    "collapsed": false,
    "pycharm": {
     "name": "#%%\n"
    }
   }
  },
  {
   "cell_type": "code",
   "execution_count": 173,
   "outputs": [],
   "source": [
    "u = np.mean(X_train,axis=0)\n",
    "std = np.std(X_train,axis=0)\n",
    "# Normalisation\n",
    "X_train = (X_train - u)/std"
   ],
   "metadata": {
    "collapsed": false,
    "pycharm": {
     "name": "#%%\n"
    }
   }
  },
  {
   "cell_type": "code",
   "execution_count": 147,
   "outputs": [],
   "source": [
    "X_train = X_train.values"
   ],
   "metadata": {
    "collapsed": false,
    "pycharm": {
     "name": "#%%\n"
    }
   }
  },
  {
   "cell_type": "code",
   "execution_count": 148,
   "outputs": [],
   "source": [
    "Y_train = Y_train.values"
   ],
   "metadata": {
    "collapsed": false,
    "pycharm": {
     "name": "#%%\n"
    }
   }
  },
  {
   "cell_type": "code",
   "execution_count": 149,
   "outputs": [],
   "source": [
    "Y_train = Y_train.reshape((-1,))"
   ],
   "metadata": {
    "collapsed": false,
    "pycharm": {
     "name": "#%%\n"
    }
   }
  },
  {
   "cell_type": "markdown",
   "source": [
    "### Implement Logistic regression"
   ],
   "metadata": {
    "collapsed": false,
    "pycharm": {
     "name": "#%% md\n"
    }
   }
  },
  {
   "cell_type": "code",
   "execution_count": 150,
   "outputs": [],
   "source": [
    "def sigmoid(x):\n",
    "    return 1.0/(1.0+ np.exp(-1.0*x))\n",
    "\n",
    "def hypothesis(X,theta):\n",
    "    y_ = sigmoid(np.dot(X,theta))\n",
    "    return y_\n",
    "\n",
    "def error(X,y,theta):\n",
    "    Loss =0.0\n",
    "    hi = hypothesis(X,theta)\n",
    "    Loss = -1.0*np.mean((y*np.log2(hi)) + ((1 - y)*np.log2(1 - hi)))\n",
    "    return Loss/X.shape[0]\n",
    "\n",
    "\n",
    "def gradient(X,y,theta):\n",
    "    grad = np.zeros((X.shape[1],))\n",
    "    y_ = hypothesis(X,theta)\n",
    "    grad = np.dot(X.T,(y - y_))\n",
    "    return -1*grad/X.shape[0]\n",
    "\n",
    "def gradient_descent(X,y,lr=0.1,max_iters=300):\n",
    "    theta = np.zeros((X.shape[1],))\n",
    "    error_list =[]\n",
    "    for i in range(max_iters):\n",
    "        error_list.append(error(X,y,theta))\n",
    "        # gradient\n",
    "        if i ==5:\n",
    "            print(hypothesis(X,theta))\n",
    "\n",
    "        grad = gradient(X,y,theta)\n",
    "        theta = theta - lr*grad\n",
    "\n",
    "    return theta,error_list\n",
    "\n",
    "def predict(X,theta):\n",
    "    h = hypothesis(X,theta)\n",
    "    output = np.zeros(h.shape)\n",
    "    output[h>=0.5] = 1\n",
    "    output = output.astype('int')\n",
    "    print(h[:5])\n",
    "\n",
    "    return output"
   ],
   "metadata": {
    "collapsed": false,
    "pycharm": {
     "name": "#%%\n"
    }
   }
  },
  {
   "cell_type": "code",
   "execution_count": 151,
   "outputs": [],
   "source": [
    "one = np.ones((X_train.shape[0],1))\n",
    "X_ = np.hstack((one,X_train))"
   ],
   "metadata": {
    "collapsed": false,
    "pycharm": {
     "name": "#%%\n"
    }
   }
  },
  {
   "cell_type": "code",
   "execution_count": 152,
   "outputs": [
    {
     "name": "stdout",
     "output_type": "stream",
     "text": [
      "[0.56189659 0.58420388 0.57542208 ... 0.58336769 0.39370743 0.59189286]\n"
     ]
    }
   ],
   "source": [
    "theta,error_list = gradient_descent(X_,Y_train)"
   ],
   "metadata": {
    "collapsed": false,
    "pycharm": {
     "name": "#%%\n"
    }
   }
  },
  {
   "cell_type": "code",
   "execution_count": 153,
   "outputs": [
    {
     "data": {
      "text/plain": "array([-0.24076709, -2.12182006,  1.0652519 , -2.04371378])"
     },
     "execution_count": 153,
     "metadata": {},
     "output_type": "execute_result"
    }
   ],
   "source": [
    "theta"
   ],
   "metadata": {
    "collapsed": false,
    "pycharm": {
     "name": "#%%\n"
    }
   }
  },
  {
   "cell_type": "code",
   "execution_count": 156,
   "outputs": [
    {
     "data": {
      "text/plain": "[<matplotlib.lines.Line2D at 0x7fe4a8f601c0>]"
     },
     "execution_count": 156,
     "metadata": {},
     "output_type": "execute_result"
    },
    {
     "data": {
      "text/plain": "<Figure size 576x396 with 1 Axes>",
      "image/png": "[encoded data removed]"
     },
     "metadata": {},
     "output_type": "display_data"
    }
   ],
   "source": [
    "plt.style.use(\"seaborn\")\n",
    "plt.plot(error_list)"
   ],
   "metadata": {
    "collapsed": false,
    "pycharm": {
     "name": "#%%\n"
    }
   }
  },
  {
   "cell_type": "code",
   "execution_count": 157,
   "outputs": [
    {
     "data": {
      "text/plain": "[0.0003333333333333333,\n 0.00031860329596775105,\n 0.00030506421709859476,\n 0.00029260624593039746,\n 0.00028112699577840004,\n 0.00027053226857212204,\n 0.0002607362619767908,\n 0.00025166140650537854,\n 0.00024323795922080564,\n 0.00023540345400712914,\n 0.00022810208221366913,\n 0.00022128405493981269,\n 0.00021490498040075993,\n 0.00020892527655787293,\n 0.00020330962982413137,\n 0.00019802650432630909,\n 0.00019304770213340595,\n 0.00018834797239143642,\n 0.0001839046659324541,\n 0.00017969743127886888,\n 0.00017570794777905496,\n 0.00017191969170550373,\n 0.00016831773140080507,\n 0.000164888547890296,\n 0.00016161987774319532,\n 0.000158500575326003,\n 0.00015552049193541637,\n 0.00015267036961393878,\n 0.0001499417477359412,\n 0.00014732688070462506,\n 0.0001448186653224213,\n 0.00014241057659113913,\n 0.00014009661086638776,\n 0.00013787123543627366,\n 0.0001357293437198959,\n 0.00013366621538928118,\n 0.00013167748081145352,\n 0.00012975908928738965,\n 0.00012790728063348823,\n 0.00012611855971046842,\n 0.00012438967355567248,\n 0.00012271759081876614,\n 0.00012109948323881462,\n 0.00011953270893352708,\n 0.00011801479729985065,\n 0.0001165434353496852,\n 0.00011511645532581819,\n 0.00011373182346171051,\n 0.00011238762976488342,\n 0.00011108207871770433,\n 0.00010981348080162578,\n 0.00010858024476164667,\n 0.000107380870537142,\n 0.00010621394279342941,\n 0.00010507812499566014,\n 0.00010397215397296995,\n 0.00010289483492641726,\n 0.00010184503683916644,\n 0.00010082168825173118,\n 9.98237733689456e-05,\n 9.885032846874483e-05,\n 9.79004385858655e-05,\n 9.697323444626669e-05,\n 9.606788963046535e-05,\n 9.518361794611282e-05,\n 9.431967099204021e-05,\n 9.347533589769952e-05,\n 9.264993322344642e-05,\n 9.184281500847052e-05,\n 9.105336295439931e-05,\n 9.028098673369585e-05,\n 8.952512241295433e-05,\n 8.878523098208365e-05,\n 8.806079698116548e-05,\n 8.735132721749297e-05,\n 8.665634956594607e-05,\n 8.597541184644534e-05,\n 8.530808077275761e-05,\n 8.465394096740804e-05,\n 8.401259403788893e-05,\n 8.338365770975084e-05,\n 8.276676501252261e-05,\n 8.216156351473255e-05,\n 8.156771460460097e-05,\n 8.098489281324634e-05,\n 8.041278517749336e-05,\n 7.985109063959826e-05,\n 7.929951948141198e-05,\n 7.875779279069119e-05,\n 7.822564195743933e-05,\n 7.770280819831828e-05,\n 7.718904210731593e-05,\n 7.668410323098847e-05,\n 7.618775966671778e-05,\n 7.569978768253691e-05,\n 7.521997135717998e-05,\n 7.474810223910737e-05,\n 7.428397902334526e-05,\n 7.382740724505874e-05,\n 7.337819898885229e-05,\n 7.293617261286037e-05,\n 7.250115248675391e-05,\n 7.207296874284763e-05,\n 7.165145703954667e-05,\n 7.123645833642249e-05,\n 7.082781868025295e-05,\n 7.042538900140592e-05,\n 7.002902491998509e-05,\n 6.963858656119398e-05,\n 6.925393837940872e-05,\n 6.887494899048158e-05,\n 6.850149101182834e-05,\n 6.813344090987847e-05,\n 6.777067885449476e-05,\n 6.74130885799914e-05,\n 6.706055725240314e-05,\n 6.67129753426783e-05,\n 6.637023650548808e-05,\n 6.603223746336296e-05,\n 6.569887789588363e-05,\n 6.537006033366973e-05,\n 6.504569005692534e-05,\n 6.472567499831237e-05,\n 6.44099256499379e-05,\n 6.409835497425211e-05,\n 6.379087831866563e-05,\n 6.348741333370568e-05,\n 6.318787989454015e-05,\n 6.289220002570839e-05,\n 6.260029782890621e-05,\n 6.231209941368058e-05,\n 6.202753283089798e-05,\n 6.174652800885664e-05,\n 6.146901669192083e-05,\n 6.119493238156095e-05,\n 6.092421027968973e-05,\n 6.065678723419042e-05,\n 6.0392601686538206e-05,\n 6.013159362142114e-05,\n 5.987370451827174e-05,\n 5.9618877304624954e-05,\n 5.9367056311222086e-05,\n 5.911818722878487e-05,\n 5.8872217066387e-05,\n 5.862909411135483e-05,\n 5.8388767890631104e-05,\n 5.815118913354029e-05,\n 5.7916309735895785e-05,\n 5.7684082725392846e-05,\n 5.74544622282335e-05,\n 5.72274034369326e-05,\n 5.7002862579255873e-05,\n 5.678079688824404e-05,\n 5.656116457327842e-05,\n 5.634392479214616e-05,\n 5.61290376240646e-05,\n 5.591646404362647e-05,\n 5.5706165895629473e-05,\n 5.549810587075492e-05,\n 5.529224748206242e-05,\n 5.508855504226848e-05,\n 5.488699364177856e-05,\n 5.468752912744364e-05,\n 5.4490128082013225e-05,\n 5.429475780425838e-05,\n 5.410138628973911e-05,\n 5.390998221219205e-05,\n 5.37205149055148e-05,\n 5.353295434632489e-05,\n 5.3347271137071876e-05,\n 5.316343648968211e-05,\n 5.2981422209716726e-05,\n 5.280120068102385e-05,\n 5.262274485086738e-05,\n 5.24460282155147e-05,\n 5.227102480626724e-05,\n 5.2097709175917575e-05,\n 5.192605638561833e-05,\n 5.1756041992147854e-05,\n 5.158764203555914e-05,\n 5.1420833027198104e-05,\n 5.1255591938078675e-05,\n 5.1091896187602145e-05,\n 5.092972363260896e-05,\n 5.076905255675151e-05,\n 5.060986166017682e-05,\n 5.0452130049508974e-05,\n 5.029583722812065e-05,\n 5.0140963086684354e-05,\n 4.998748789399388e-05,\n 4.983539228804694e-05,\n 4.968465726738052e-05,\n 4.9535264182650134e-05,\n 4.9387194728445615e-05,\n 4.924043093533511e-05,\n 4.909495516213023e-05,\n 4.895075008836501e-05,\n 4.8807798706981896e-05,\n 4.8666084317217967e-05,\n 4.852559051768525e-05,\n 4.838630119963859e-05,\n 4.82482005404255e-05,\n 4.811127299711213e-05,\n 4.79755033002796e-05,\n 4.784087644798589e-05,\n 4.7707377699887604e-05,\n 4.7574992571517005e-05,\n 4.744370682870943e-05,\n 4.7313506482176544e-05,\n 4.718437778222076e-05,\n 4.705630721358694e-05,\n 4.6929281490446774e-05,\n 4.680328755151219e-05,\n 4.6678312555273746e-05,\n 4.655434387536036e-05,\n 4.643136909601668e-05,\n 4.63093760076947e-05,\n 4.6188352602756284e-05,\n 4.6068287071283195e-05,\n 4.5949167796991616e-05,\n 4.583098335324815e-05,\n 4.571372249918418e-05,\n 4.5597374175906063e-05,\n 4.548192750279798e-05,\n 4.5367371773915264e-05,\n 4.525369645446523e-05,\n 4.514089117737324e-05,\n 4.502894573993167e-05,\n 4.4917850100529105e-05,\n 4.48075943754579e-05,\n 4.469816883579776e-05,\n 4.458956390437308e-05,\n 4.4481770152782385e-05,\n 4.437477829849738e-05,\n 4.42685792020302e-05,\n 4.416316386416665e-05,\n 4.405852342326375e-05,\n 4.3954649152609874e-05,\n 4.385153245784579e-05,\n 4.374916487444488e-05,\n 4.3647538065251e-05,\n 4.3546643818072584e-05,\n 4.344647404333112e-05,\n 4.3347020771763104e-05,\n 4.324827615217346e-05,\n 4.3150232449239604e-05,\n 4.305288204136449e-05,\n 4.295621741857746e-05,\n 4.2860231180481665e-05,\n 4.276491603424694e-05,\n 4.267026479264668e-05,\n 4.2576270372137995e-05,\n 4.248292579098362e-05,\n 4.2390224167414875e-05,\n 4.229815871783432e-05,\n 4.220672275505742e-05,\n 4.211590968659186e-05,\n 4.202571301295398e-05,\n 4.193612632602103e-05,\n 4.184714330741857e-05,\n 4.175875772694218e-05,\n 4.1670963441012326e-05,\n 4.1583754391161916e-05,\n 4.1497124602555656e-05,\n 4.1411068182540215e-05,\n 4.132557931922471e-05,\n 4.1240652280090575e-05,\n 4.115628141063036e-05,\n 4.107246113301438e-05,\n 4.0989185944784936e-05,\n 4.090645041757716e-05,\n 4.082424919586604e-05,\n 4.07425769957388e-05,\n 4.066142860369234e-05,\n 4.0580798875454756e-05,\n 4.0500682734830695e-05,\n 4.042107517256982e-05,\n 4.034197124525792e-05,\n 4.026336607423005e-05,\n 4.018525484450532e-05,\n 4.010763280374265e-05,\n 4.003049526121721e-05,\n 3.995383758681694e-05,\n 3.9877655210058665e-05,\n 3.98019436191235e-05,\n 3.972669835991097e-05,\n 3.965191503511144e-05,\n 3.957758930329656e-05,\n 3.950371687802712e-05,\n 3.943029352697808e-05,\n 3.935731507108041e-05,\n 3.928477738367911e-05,\n 3.9212676389707464e-05,\n 3.9141008064876786e-05,\n 3.906976843488148e-05,\n 3.899895357461913e-05,\n 3.8928559607425175e-05,\n 3.8858582704321934e-05,\n 3.878901908328158e-05,\n 3.87198650085029e-05]"
     },
     "execution_count": 157,
     "metadata": {},
     "output_type": "execute_result"
    }
   ],
   "source": [
    "# error_list"
   ],
   "metadata": {
    "collapsed": false,
    "pycharm": {
     "name": "#%%\n"
    }
   }
  },
  {
   "cell_type": "code",
   "execution_count": 160,
   "outputs": [
    {
     "name": "stdout",
     "output_type": "stream",
     "text": [
      "[0.91872583 0.96870343 0.97716013 0.0125769  0.13236235]\n"
     ]
    }
   ],
   "source": [
    "df = pd.DataFrame(predict(X_,theta),columns=[\"label\"])"
   ],
   "metadata": {
    "collapsed": false,
    "pycharm": {
     "name": "#%%\n"
    }
   }
  },
  {
   "cell_type": "code",
   "execution_count": 161,
   "outputs": [
    {
     "data": {
      "text/plain": "   label\n0      1\n1      1\n2      1\n3      0\n4      0",
      "text/html": "<div>\n<style scoped>\n    .dataframe tbody tr th:only-of-type {\n        vertical-align: middle;\n    }\n\n    .dataframe tbody tr th {\n        vertical-align: top;\n    }\n\n    .dataframe thead th {\n        text-align: right;\n    }\n</style>\n<table border=\"1\" class=\"dataframe\">\n  <thead>\n    <tr style=\"text-align: right;\">\n      <th></th>\n      <th>label</th>\n    </tr>\n  </thead>\n  <tbody>\n    <tr>\n      <th>0</th>\n      <td>1</td>\n    </tr>\n    <tr>\n      <th>1</th>\n      <td>1</td>\n    </tr>\n    <tr>\n      <th>2</th>\n      <td>1</td>\n    </tr>\n    <tr>\n      <th>3</th>\n      <td>0</td>\n    </tr>\n    <tr>\n      <th>4</th>\n      <td>0</td>\n    </tr>\n  </tbody>\n</table>\n</div>"
     },
     "execution_count": 161,
     "metadata": {},
     "output_type": "execute_result"
    }
   ],
   "source": [
    "df.head()"
   ],
   "metadata": {
    "collapsed": false,
    "pycharm": {
     "name": "#%%\n"
    }
   }
  },
  {
   "cell_type": "code",
   "execution_count": 162,
   "outputs": [],
   "source": [
    "df.to_csv('test1_seg',index=False)"
   ],
   "metadata": {
    "collapsed": false,
    "pycharm": {
     "name": "#%%\n"
    }
   }
  },
  {
   "cell_type": "code",
   "execution_count": 163,
   "outputs": [],
   "source": [
    "X_test = pd.read_csv(\"chem seg datasets/Test Cases_chem_seg/Logistic_X_Test.csv\")"
   ],
   "metadata": {
    "collapsed": false,
    "pycharm": {
     "name": "#%%\n"
    }
   }
  },
  {
   "cell_type": "code",
   "execution_count": 164,
   "outputs": [],
   "source": [
    "X_test = X_test.values"
   ],
   "metadata": {
    "collapsed": false,
    "pycharm": {
     "name": "#%%\n"
    }
   }
  },
  {
   "cell_type": "code",
   "execution_count": 174,
   "outputs": [],
   "source": [
    "# Normalization -->\n",
    "X_test = (X_test -u)/std"
   ],
   "metadata": {
    "collapsed": false,
    "pycharm": {
     "name": "#%%\n"
    }
   }
  },
  {
   "cell_type": "code",
   "execution_count": 175,
   "outputs": [
    {
     "name": "stdout",
     "output_type": "stream",
     "text": [
      "[0.99807018 0.99168698 0.0066138  0.99107422 0.99467494]\n"
     ]
    }
   ],
   "source": [
    "df1 = pd.DataFrame(predict(np.hstack((np.ones((X_test.shape[0],1)),X_test)),theta),columns=[\"label\"])"
   ],
   "metadata": {
    "collapsed": false,
    "pycharm": {
     "name": "#%%\n"
    }
   }
  },
  {
   "cell_type": "code",
   "execution_count": 176,
   "outputs": [
    {
     "data": {
      "text/plain": "   label\n0      1\n1      1\n2      0\n3      1\n4      1",
      "text/html": "<div>\n<style scoped>\n    .dataframe tbody tr th:only-of-type {\n        vertical-align: middle;\n    }\n\n    .dataframe tbody tr th {\n        vertical-align: top;\n    }\n\n    .dataframe thead th {\n        text-align: right;\n    }\n</style>\n<table border=\"1\" class=\"dataframe\">\n  <thead>\n    <tr style=\"text-align: right;\">\n      <th></th>\n      <th>label</th>\n    </tr>\n  </thead>\n  <tbody>\n    <tr>\n      <th>0</th>\n      <td>1</td>\n    </tr>\n    <tr>\n      <th>1</th>\n      <td>1</td>\n    </tr>\n    <tr>\n      <th>2</th>\n      <td>0</td>\n    </tr>\n    <tr>\n      <th>3</th>\n      <td>1</td>\n    </tr>\n    <tr>\n      <th>4</th>\n      <td>1</td>\n    </tr>\n  </tbody>\n</table>\n</div>"
     },
     "execution_count": 176,
     "metadata": {},
     "output_type": "execute_result"
    }
   ],
   "source": [
    "df1.head()"
   ],
   "metadata": {
    "collapsed": false,
    "pycharm": {
     "name": "#%%\n"
    }
   }
  },
  {
   "cell_type": "code",
   "execution_count": 177,
   "outputs": [],
   "source": [
    "df1.to_csv(\"test4_seg.csv\",index=False)"
   ],
   "metadata": {
    "collapsed": false,
    "pycharm": {
     "name": "#%%\n"
    }
   }
  },
  {
   "cell_type": "code",
   "execution_count": null,
   "outputs": [],
   "source": [],
   "metadata": {
    "collapsed": false,
    "pycharm": {
     "name": "#%%\n"
    }
   }
  }
 ],
 "metadata": {
  "kernelspec": {
   "display_name": "Python 3",
   "language": "python",
   "name": "python3"
  },
  "language_info": {
   "codemirror_mode": {
    "name": "ipython",
    "version": 2
   },
   "file_extension": ".py",
   "mimetype": "text/x-python",
   "name": "python",
   "nbconvert_exporter": "python",
   "pygments_lexer": "ipython2",
   "version": "2.7.6"
  }
 },
 "nbformat": 4,
 "nbformat_minor": 0
}