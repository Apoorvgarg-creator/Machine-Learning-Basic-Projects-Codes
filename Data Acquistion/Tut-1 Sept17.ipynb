{
 "cells": [
  {
   "cell_type": "markdown",
   "metadata": {
    "collapsed": true,
    "pycharm": {
     "name": "#%% md\n"
    }
   },
   "source": [
    "## Data Scraping using beautiful soup\n",
    "- import beautiful soup\n",
    "- Make a GET request to fetch page data\n",
    "- Parse HTML\n",
    "- Filter relevant paths"
   ]
  },
  {
   "cell_type": "code",
   "execution_count": 22,
   "outputs": [],
   "source": [
    "# !pip install bs4"
   ],
   "metadata": {
    "collapsed": false,
    "pycharm": {
     "name": "#%%\n"
    }
   }
  },
  {
   "cell_type": "code",
   "execution_count": 23,
   "outputs": [],
   "source": [
    "import requests\n",
    "from urllib.request import urlopen\n",
    "\n",
    "requests.packages.urllib3.disable_warnings()\n",
    "import ssl\n",
    "\n",
    "try:\n",
    "    _create_unverified_https_context = ssl._create_unverified_context\n",
    "except AttributeError:\n",
    "    # Legacy Python that doesn't verify HTTPS certificates by default\n",
    "    pass\n",
    "else:\n",
    "    # Handle target environment that doesn't support HTTPS verification\n",
    "    ssl._create_default_https_context = _create_unverified_https_context"
   ],
   "metadata": {
    "collapsed": false,
    "pycharm": {
     "name": "#%%\n"
    }
   }
  },
  {
   "cell_type": "code",
   "execution_count": 24,
   "outputs": [],
   "source": [
    "android_url = \"https://en.wikipedia.org/wiki/Android_version_history\""
   ],
   "metadata": {
    "collapsed": false,
    "pycharm": {
     "name": "#%%\n"
    }
   }
  },
  {
   "cell_type": "code",
   "execution_count": 25,
   "outputs": [
    {
     "name": "stdout",
     "output_type": "stream",
     "text": [
      "<class 'http.client.HTTPResponse'>\n"
     ]
    }
   ],
   "source": [
    "android_data = urlopen(android_url)\n",
    "print(type(android_data))"
   ],
   "metadata": {
    "collapsed": false,
    "pycharm": {
     "name": "#%%\n"
    }
   }
  },
  {
   "cell_type": "code",
   "execution_count": 26,
   "outputs": [],
   "source": [
    "android_html = android_data.read()\n",
    "android_data.close() # Close the response after receiving the data"
   ],
   "metadata": {
    "collapsed": false,
    "pycharm": {
     "name": "#%%\n"
    }
   }
  },
  {
   "cell_type": "code",
   "execution_count": 27,
   "outputs": [],
   "source": [
    "# android_html # Entire html of wiki"
   ],
   "metadata": {
    "collapsed": false,
    "pycharm": {
     "name": "#%%\n"
    }
   }
  },
  {
   "cell_type": "markdown",
   "source": [
    "## 2. parsing data\n",
    "\n"
   ],
   "metadata": {
    "collapsed": false,
    "pycharm": {
     "name": "#%% md\n"
    }
   }
  },
  {
   "cell_type": "code",
   "execution_count": 28,
   "outputs": [],
   "source": [
    "from bs4 import BeautifulSoup as soup"
   ],
   "metadata": {
    "collapsed": false,
    "pycharm": {
     "name": "#%%\n"
    }
   }
  },
  {
   "cell_type": "code",
   "execution_count": 29,
   "outputs": [],
   "source": [
    "android_soup = soup(android_html,'html.parser')"
   ],
   "metadata": {
    "collapsed": false,
    "pycharm": {
     "name": "#%%\n"
    }
   }
  },
  {
   "cell_type": "code",
   "execution_count": 30,
   "outputs": [],
   "source": [
    "# print(android_soup)"
   ],
   "metadata": {
    "collapsed": false,
    "pycharm": {
     "name": "#%%\n"
    }
   }
  },
  {
   "cell_type": "code",
   "execution_count": 31,
   "outputs": [
    {
     "name": "stdout",
     "output_type": "stream",
     "text": [
      "<class 'bs4.BeautifulSoup'>\n"
     ]
    }
   ],
   "source": [
    "print(type(android_soup))"
   ],
   "metadata": {
    "collapsed": false,
    "pycharm": {
     "name": "#%%\n"
    }
   }
  },
  {
   "cell_type": "code",
   "execution_count": 32,
   "outputs": [
    {
     "data": {
      "text/plain": "<h1 class=\"firstHeading\" id=\"firstHeading\" lang=\"en\">Android version history</h1>"
     },
     "execution_count": 32,
     "metadata": {},
     "output_type": "execute_result"
    }
   ],
   "source": [
    "android_soup.h1"
   ],
   "metadata": {
    "collapsed": false,
    "pycharm": {
     "name": "#%%\n"
    }
   }
  },
  {
   "cell_type": "code",
   "execution_count": 33,
   "outputs": [
    {
     "data": {
      "text/plain": "[<h1 class=\"firstHeading\" id=\"firstHeading\" lang=\"en\">Android version history</h1>]"
     },
     "execution_count": 33,
     "metadata": {},
     "output_type": "execute_result"
    }
   ],
   "source": [
    "android_soup.find_all('h1',{})"
   ],
   "metadata": {
    "collapsed": false,
    "pycharm": {
     "name": "#%%\n"
    }
   }
  },
  {
   "cell_type": "code",
   "execution_count": 34,
   "outputs": [],
   "source": [
    "tables = android_soup.find_all('table',{'class' :'wikitable'})"
   ],
   "metadata": {
    "collapsed": false,
    "pycharm": {
     "name": "#%%\n"
    }
   }
  },
  {
   "cell_type": "code",
   "execution_count": 35,
   "outputs": [
    {
     "data": {
      "text/plain": "31"
     },
     "execution_count": 35,
     "metadata": {},
     "output_type": "execute_result"
    }
   ],
   "source": [
    "len(tables)"
   ],
   "metadata": {
    "collapsed": false,
    "pycharm": {
     "name": "#%%\n"
    }
   }
  },
  {
   "cell_type": "code",
   "execution_count": 36,
   "outputs": [],
   "source": [
    "android_table = tables[0]"
   ],
   "metadata": {
    "collapsed": false,
    "pycharm": {
     "name": "#%%\n"
    }
   }
  },
  {
   "cell_type": "code",
   "execution_count": 37,
   "outputs": [
    {
     "data": {
      "text/plain": "<table class=\"wikitable\">\n<tbody><tr>\n<th>Name\n</th>\n<th>Version number(s)\n</th>\n<th>Initial stable<br/>release date\n</th>\n<th>Supported (security fixes)\n</th>\n<th>API level\n</th>\n<th>References\n</th></tr>\n<tr>\n<td rowspan=\"2\">No official codename\n</td>\n<td>1.0\n</td>\n<td>September 23, 2008\n</td>\n<td class=\"table-no\" style=\"background:#F99;vertical-align:middle;text-align:center;\">No\n</td>\n<td>1\n</td>\n<td><sup class=\"reference\" id=\"cite_ref-unofficial_and_official_codenames_9-1\"><a href=\"#cite_note-unofficial_and_official_codenames-9\">[9]</a></sup>\n</td></tr>\n<tr>\n<td>1.1\n</td>\n<td>February 9, 2009\n</td>\n<td class=\"table-no\" style=\"background:#F99;vertical-align:middle;text-align:center;\">No\n</td>\n<td>2\n</td>\n<td><sup class=\"reference\" id=\"cite_ref-unofficial_and_official_codenames_9-2\"><a href=\"#cite_note-unofficial_and_official_codenames-9\">[9]</a></sup><sup class=\"reference\" id=\"cite_ref-14\"><a href=\"#cite_note-14\">[14]</a></sup>\n</td></tr>\n<tr>\n<td><a href=\"/wiki/Android_Cupcake\" title=\"Android Cupcake\">Cupcake</a>\n</td>\n<td>1.5\n</td>\n<td>April 27, 2009\n</td>\n<td class=\"table-no\" style=\"background:#F99;vertical-align:middle;text-align:center;\">No\n</td>\n<td>3\n</td>\n<td><sup class=\"reference\" id=\"cite_ref-15\"><a href=\"#cite_note-15\">[15]</a></sup>\n</td></tr>\n<tr>\n<td><a href=\"/wiki/Android_Donut\" title=\"Android Donut\">Donut</a>\n</td>\n<td>1.6\n</td>\n<td>September 15, 2009\n</td>\n<td class=\"table-no\" style=\"background:#F99;vertical-align:middle;text-align:center;\">No\n</td>\n<td>4\n</td>\n<td><sup class=\"reference\" id=\"cite_ref-16\"><a href=\"#cite_note-16\">[16]</a></sup>\n</td></tr>\n<tr>\n<td><a href=\"/wiki/Android_Eclair\" title=\"Android Eclair\">Eclair</a>\n</td>\n<td>2.0 – 2.1\n</td>\n<td>October 26, 2009\n</td>\n<td class=\"table-no\" style=\"background:#F99;vertical-align:middle;text-align:center;\">No\n</td>\n<td>5 – 7\n</td>\n<td><sup class=\"reference\" id=\"cite_ref-17\"><a href=\"#cite_note-17\">[17]</a></sup>\n</td></tr>\n<tr>\n<td><a href=\"/wiki/Android_Froyo\" title=\"Android Froyo\">Froyo</a>\n</td>\n<td>2.2 – 2.2.3\n</td>\n<td>May 20, 2010\n</td>\n<td class=\"table-no\" style=\"background:#F99;vertical-align:middle;text-align:center;\">No\n</td>\n<td>8\n</td>\n<td><sup class=\"reference\" id=\"cite_ref-18\"><a href=\"#cite_note-18\">[18]</a></sup>\n</td></tr>\n<tr>\n<td><a href=\"/wiki/Android_Gingerbread\" title=\"Android Gingerbread\">Gingerbread</a>\n</td>\n<td>2.3 – 2.3.7\n</td>\n<td>December 6, 2010\n</td>\n<td class=\"table-no\" style=\"background:#F99;vertical-align:middle;text-align:center;\">No\n</td>\n<td>9 – 10\n</td>\n<td><sup class=\"reference\" id=\"cite_ref-19\"><a href=\"#cite_note-19\">[19]</a></sup>\n</td></tr>\n<tr>\n<td><a href=\"/wiki/Android_Honeycomb\" title=\"Android Honeycomb\">Honeycomb</a>\n</td>\n<td>3.0 – 3.2.6\n</td>\n<td>February 22, 2011\n</td>\n<td class=\"table-no\" style=\"background:#F99;vertical-align:middle;text-align:center;\">No\n</td>\n<td>11 – 13\n</td>\n<td><sup class=\"reference\" id=\"cite_ref-20\"><a href=\"#cite_note-20\">[20]</a></sup>\n</td></tr>\n<tr>\n<td><a href=\"/wiki/Android_Ice_Cream_Sandwich\" title=\"Android Ice Cream Sandwich\">Ice Cream Sandwich</a>\n</td>\n<td>4.0 – 4.0.4\n</td>\n<td>October 18, 2011\n</td>\n<td class=\"table-no\" style=\"background:#F99;vertical-align:middle;text-align:center;\">No\n</td>\n<td>14 – 15\n</td>\n<td><sup class=\"reference\" id=\"cite_ref-21\"><a href=\"#cite_note-21\">[21]</a></sup>\n</td></tr>\n<tr>\n<td><a href=\"/wiki/Android_Jelly_Bean\" title=\"Android Jelly Bean\">Jelly Bean</a>\n</td>\n<td>4.1 – 4.3.1\n</td>\n<td>July 9, 2012\n</td>\n<td class=\"table-no\" style=\"background:#F99;vertical-align:middle;text-align:center;\">No\n</td>\n<td>16 – 18\n</td>\n<td><sup class=\"reference\" id=\"cite_ref-22\"><a href=\"#cite_note-22\">[22]</a></sup>\n</td></tr>\n<tr>\n<td><a href=\"/wiki/Android_KitKat\" title=\"Android KitKat\">KitKat</a>\n</td>\n<td>4.4 – 4.4.4\n</td>\n<td>October 31, 2013\n</td>\n<td class=\"table-no\" style=\"background:#F99;vertical-align:middle;text-align:center;\">No\n</td>\n<td>19 – 20\n</td>\n<td><sup class=\"reference\" id=\"cite_ref-23\"><a href=\"#cite_note-23\">[23]</a></sup>\n</td></tr>\n<tr>\n<td><a href=\"/wiki/Android_Lollipop\" title=\"Android Lollipop\">Lollipop</a>\n</td>\n<td>5.0 – 5.1.1\n</td>\n<td>November 12, 2014\n</td>\n<td class=\"table-no\" style=\"background:#F99;vertical-align:middle;text-align:center;\">No\n</td>\n<td>21 – 22\n</td>\n<td><sup class=\"reference\" id=\"cite_ref-24\"><a href=\"#cite_note-24\">[24]</a></sup>\n</td></tr>\n<tr>\n<td><a href=\"/wiki/Android_Marshmallow\" title=\"Android Marshmallow\">Marshmallow</a>\n</td>\n<td>6.0 – 6.0.1\n</td>\n<td>October 5, 2015\n</td>\n<td class=\"table-no\" style=\"background:#F99;vertical-align:middle;text-align:center;\">No\n</td>\n<td>23\n</td>\n<td><sup class=\"reference\" id=\"cite_ref-25\"><a href=\"#cite_note-25\">[25]</a></sup>\n</td></tr>\n<tr>\n<td><a href=\"/wiki/Android_Nougat\" title=\"Android Nougat\">Nougat</a>\n</td>\n<td>7.0 – 7.1.2\n</td>\n<td>August 22, 2016\n</td>\n<td class=\"table-no\" style=\"background:#F99;vertical-align:middle;text-align:center;\">No\n</td>\n<td>24 – 25\n</td>\n<td><sup class=\"reference\" id=\"cite_ref-26\"><a href=\"#cite_note-26\">[26]</a></sup><sup class=\"reference\" id=\"cite_ref-27\"><a href=\"#cite_note-27\">[27]</a></sup><sup class=\"reference\" id=\"cite_ref-28\"><a href=\"#cite_note-28\">[28]</a></sup><sup class=\"reference\" id=\"cite_ref-29\"><a href=\"#cite_note-29\">[29]</a></sup>\n</td></tr>\n<tr>\n<td><a href=\"/wiki/Android_Oreo\" title=\"Android Oreo\">Oreo</a>\n</td>\n<td>8.0 – 8.1\n</td>\n<td>August 21, 2017\n</td>\n<td class=\"table-yes\" style=\"background:#9F9;vertical-align:middle;text-align:center;\">Yes\n</td>\n<td>26 – 27\n</td>\n<td><sup class=\"reference\" id=\"cite_ref-30\"><a href=\"#cite_note-30\">[30]</a></sup>\n</td></tr>\n<tr>\n<td><a href=\"/wiki/Android_Pie\" title=\"Android Pie\">Pie</a>\n</td>\n<td>9\n</td>\n<td>August 6, 2018\n</td>\n<td class=\"table-yes\" style=\"background:#9F9;vertical-align:middle;text-align:center;\">Yes\n</td>\n<td>28\n</td>\n<td><sup class=\"reference\" id=\"cite_ref-31\"><a href=\"#cite_note-31\">[31]</a></sup>\n</td></tr>\n<tr>\n<td><a href=\"/wiki/Android_10\" title=\"Android 10\">Android 10</a>\n</td>\n<td>10\n</td>\n<td>September 3, 2019\n</td>\n<td class=\"table-yes\" style=\"background:#9F9;vertical-align:middle;text-align:center;\">Yes\n</td>\n<td>29\n</td>\n<td><sup class=\"reference\" id=\"cite_ref-32\"><a href=\"#cite_note-32\">[32]</a></sup>\n</td></tr>\n<tr>\n<td><a href=\"/wiki/Android_11\" title=\"Android 11\">Android 11</a>\n</td>\n<td>11\n</td>\n<td>September 8, 2020\n</td>\n<td class=\"table-yes\" style=\"background:#9F9;vertical-align:middle;text-align:center;\">Yes\n</td>\n<td>30\n</td>\n<td><sup class=\"reference\" id=\"cite_ref-33\"><a href=\"#cite_note-33\">[33]</a></sup>\n</td></tr></tbody></table>"
     },
     "execution_count": 37,
     "metadata": {},
     "output_type": "execute_result"
    }
   ],
   "source": [
    "android_table"
   ],
   "metadata": {
    "collapsed": false,
    "pycharm": {
     "name": "#%%\n"
    }
   }
  },
  {
   "cell_type": "markdown",
   "source": [
    "## 3. Extracting Useful information\n",
    "- Remove undesired tags\n",
    "- Extract table header and data"
   ],
   "metadata": {
    "collapsed": false,
    "pycharm": {
     "name": "#%% md\n"
    }
   }
  },
  {
   "cell_type": "code",
   "execution_count": 38,
   "outputs": [],
   "source": [
    "headers = android_table.find_all('th')"
   ],
   "metadata": {
    "collapsed": false,
    "pycharm": {
     "name": "#%%\n"
    }
   }
  },
  {
   "cell_type": "code",
   "execution_count": 39,
   "outputs": [
    {
     "name": "stdout",
     "output_type": "stream",
     "text": [
      "6\n"
     ]
    }
   ],
   "source": [
    "print(len(headers))"
   ],
   "metadata": {
    "collapsed": false,
    "pycharm": {
     "name": "#%%\n"
    }
   }
  },
  {
   "cell_type": "code",
   "execution_count": 40,
   "outputs": [
    {
     "name": "stdout",
     "output_type": "stream",
     "text": [
      "Name\n",
      "\n"
     ]
    }
   ],
   "source": [
    "print(headers[0].text)"
   ],
   "metadata": {
    "collapsed": false,
    "pycharm": {
     "name": "#%%\n"
    }
   }
  },
  {
   "cell_type": "code",
   "execution_count": 41,
   "outputs": [],
   "source": [
    "column_titles = [ct.text[:-1] for ct in headers]"
   ],
   "metadata": {
    "collapsed": false,
    "pycharm": {
     "name": "#%%\n"
    }
   }
  },
  {
   "cell_type": "code",
   "execution_count": 42,
   "outputs": [
    {
     "data": {
      "text/plain": "['Name',\n 'Version number(s)',\n 'Initial stablerelease date',\n 'Supported (security fixes)',\n 'API level',\n 'References']"
     },
     "execution_count": 42,
     "metadata": {},
     "output_type": "execute_result"
    }
   ],
   "source": [
    "column_titles"
   ],
   "metadata": {
    "collapsed": false,
    "pycharm": {
     "name": "#%%\n"
    }
   }
  },
  {
   "cell_type": "code",
   "execution_count": 43,
   "outputs": [],
   "source": [
    "rows_data = android_table.find_all('tr',{})[1:]"
   ],
   "metadata": {
    "collapsed": false,
    "pycharm": {
     "name": "#%%\n"
    }
   }
  },
  {
   "cell_type": "code",
   "execution_count": 44,
   "outputs": [
    {
     "name": "stdout",
     "output_type": "stream",
     "text": [
      "18\n"
     ]
    }
   ],
   "source": [
    "print(len(rows_data))"
   ],
   "metadata": {
    "collapsed": false,
    "pycharm": {
     "name": "#%%\n"
    }
   }
  },
  {
   "cell_type": "code",
   "execution_count": 52,
   "outputs": [
    {
     "data": {
      "text/plain": "<tr>\n<td>1.1\n</td>\n<td>February 9, 2009\n</td>\n<td class=\"table-no\" style=\"background:#F99;vertical-align:middle;text-align:center;\">No\n</td>\n<td>2\n</td>\n<td><sup class=\"reference\" id=\"cite_ref-unofficial_and_official_codenames_9-2\"><a href=\"#cite_note-unofficial_and_official_codenames-9\">[9]</a></sup><sup class=\"reference\" id=\"cite_ref-14\"><a href=\"#cite_note-14\">[14]</a></sup>\n</td></tr>"
     },
     "execution_count": 52,
     "metadata": {},
     "output_type": "execute_result"
    }
   ],
   "source": [
    "# first_row = rows_data[0].find_all('td',{})\n",
    "# for d in first_row:\n",
    "#     print(d.text)"
   ],
   "metadata": {
    "collapsed": false,
    "pycharm": {
     "name": "#%%\n"
    }
   }
  },
  {
   "cell_type": "code",
   "execution_count": 46,
   "outputs": [],
   "source": [
    "table_row = []\n",
    "for row in rows_data:\n",
    "    current_row = []\n",
    "    row_data = row.find_all('td',{})\n",
    "    for idx, data in enumerate(row_data):\n",
    "        if idx == 1:\n",
    "            current_row.append(data.text[:-1].split(': ')[-1])\n",
    "        elif idx != 0 and idx != 3:\n",
    "            current_row.append(data.text[:-1])\n",
    "        else:\n",
    "            current_row.append(data.text[:-1])\n",
    "\n",
    "    table_row.append(current_row)"
   ],
   "metadata": {
    "collapsed": false,
    "pycharm": {
     "name": "#%%\n"
    }
   }
  },
  {
   "cell_type": "code",
   "execution_count": 47,
   "outputs": [
    {
     "data": {
      "text/plain": "[['No official codename', '1.0', 'September 23, 2008', 'No', '1', '[9]'],\n ['1.1', 'February 9, 2009', 'No', '2', '[9][14]'],\n ['Cupcake', '1.5', 'April 27, 2009', 'No', '3', '[15]'],\n ['Donut', '1.6', 'September 15, 2009', 'No', '4', '[16]'],\n ['Eclair', '2.0 – 2.1', 'October 26, 2009', 'No', '5 – 7', '[17]'],\n ['Froyo', '2.2 – 2.2.3', 'May 20, 2010', 'No', '8', '[18]'],\n ['Gingerbread', '2.3 – 2.3.7', 'December 6, 2010', 'No', '9 – 10', '[19]'],\n ['Honeycomb', '3.0 – 3.2.6', 'February 22, 2011', 'No', '11 – 13', '[20]'],\n ['Ice Cream Sandwich',\n  '4.0 – 4.0.4',\n  'October 18, 2011',\n  'No',\n  '14 – 15',\n  '[21]'],\n ['Jelly Bean', '4.1 – 4.3.1', 'July 9, 2012', 'No', '16 – 18', '[22]'],\n ['KitKat', '4.4 – 4.4.4', 'October 31, 2013', 'No', '19 – 20', '[23]'],\n ['Lollipop', '5.0 – 5.1.1', 'November 12, 2014', 'No', '21 – 22', '[24]'],\n ['Marshmallow', '6.0 – 6.0.1', 'October 5, 2015', 'No', '23', '[25]'],\n ['Nougat',\n  '7.0 – 7.1.2',\n  'August 22, 2016',\n  'No',\n  '24 – 25',\n  '[26][27][28][29]'],\n ['Oreo', '8.0 – 8.1', 'August 21, 2017', 'Yes', '26 – 27', '[30]'],\n ['Pie', '9', 'August 6, 2018', 'Yes', '28', '[31]'],\n ['Android 10', '10', 'September 3, 2019', 'Yes', '29', '[32]'],\n ['Android 11', '11', 'September 8, 2020', 'Yes', '30', '[33]']]"
     },
     "execution_count": 47,
     "metadata": {},
     "output_type": "execute_result"
    }
   ],
   "source": [
    "table_row"
   ],
   "metadata": {
    "collapsed": false,
    "pycharm": {
     "name": "#%%\n"
    }
   }
  },
  {
   "cell_type": "markdown",
   "source": [
    "## Writing and reading csv\n",
    "- CSV stands for comma separated file"
   ],
   "metadata": {
    "collapsed": false,
    "pycharm": {
     "name": "#%% md\n"
    }
   }
  },
  {
   "cell_type": "code",
   "execution_count": 48,
   "outputs": [],
   "source": [
    "filename = 'android_version_history1.csv'\n",
    "with open(filename,'w') as f:\n",
    "    # Write the header\n",
    "    header_string = ','.join(column_titles)\n",
    "    header_string +='\\n'\n",
    "    f.write(header_string)\n",
    "\n",
    "    for row in table_row[:-1]:\n",
    "        row_string = ','.join(row)\n",
    "        row_string += '\\n'\n",
    "        f.write(row_string)"
   ],
   "metadata": {
    "collapsed": false,
    "pycharm": {
     "name": "#%%\n"
    }
   }
  },
  {
   "cell_type": "markdown",
   "source": [
    "## Cleaning_data\n",
    "- Remove unwanted commas and symbols\n",
    "- Undesired information"
   ],
   "metadata": {
    "collapsed": false,
    "pycharm": {
     "name": "#%% md\n"
    }
   }
  },
  {
   "cell_type": "code",
   "execution_count": 49,
   "outputs": [],
   "source": [
    "import pandas as pd"
   ],
   "metadata": {
    "collapsed": false,
    "pycharm": {
     "name": "#%%\n"
    }
   }
  },
  {
   "cell_type": "code",
   "execution_count": 50,
   "outputs": [],
   "source": [
    "df = pd.read_csv('android_version_history1.csv')"
   ],
   "metadata": {
    "collapsed": false,
    "pycharm": {
     "name": "#%%\n"
    }
   }
  },
  {
   "cell_type": "code",
   "execution_count": 51,
   "outputs": [
    {
     "data": {
      "text/plain": "                             Name Version number(s)  \\\nNo official codename          1.0      September 23   \n1.1                    February 9              2009   \nCupcake                       1.5          April 27   \nDonut                         1.6      September 15   \nEclair                  2.0 – 2.1        October 26   \nFroyo                 2.2 – 2.2.3            May 20   \nGingerbread           2.3 – 2.3.7        December 6   \nHoneycomb             3.0 – 3.2.6       February 22   \nIce Cream Sandwich    4.0 – 4.0.4        October 18   \nJelly Bean            4.1 – 4.3.1            July 9   \nKitKat                4.4 – 4.4.4        October 31   \nLollipop              5.0 – 5.1.1       November 12   \nMarshmallow           6.0 – 6.0.1         October 5   \nNougat                7.0 – 7.1.2         August 22   \nOreo                    8.0 – 8.1         August 21   \nPie                             9          August 6   \nAndroid 10                     10       September 3   \n\n                     Initial stablerelease date Supported (security fixes)  \\\nNo official codename                       2008                         No   \n1.1                                          No                          2   \nCupcake                                    2009                         No   \nDonut                                      2009                         No   \nEclair                                     2009                         No   \nFroyo                                      2010                         No   \nGingerbread                                2010                         No   \nHoneycomb                                  2011                         No   \nIce Cream Sandwich                         2011                         No   \nJelly Bean                                 2012                         No   \nKitKat                                     2013                         No   \nLollipop                                   2014                         No   \nMarshmallow                                2015                         No   \nNougat                                     2016                         No   \nOreo                                       2017                        Yes   \nPie                                        2018                        Yes   \nAndroid 10                                 2019                        Yes   \n\n                     API level        References  \nNo official codename         1               [9]  \n1.1                    [9][14]               NaN  \nCupcake                      3              [15]  \nDonut                        4              [16]  \nEclair                   5 – 7              [17]  \nFroyo                        8              [18]  \nGingerbread             9 – 10              [19]  \nHoneycomb              11 – 13              [20]  \nIce Cream Sandwich     14 – 15              [21]  \nJelly Bean             16 – 18              [22]  \nKitKat                 19 – 20              [23]  \nLollipop               21 – 22              [24]  \nMarshmallow                 23              [25]  \nNougat                 24 – 25  [26][27][28][29]  \nOreo                   26 – 27              [30]  \nPie                         28              [31]  \nAndroid 10                  29              [32]  ",
      "text/html": "<div>\n<style scoped>\n    .dataframe tbody tr th:only-of-type {\n        vertical-align: middle;\n    }\n\n    .dataframe tbody tr th {\n        vertical-align: top;\n    }\n\n    .dataframe thead th {\n        text-align: right;\n    }\n</style>\n<table border=\"1\" class=\"dataframe\">\n  <thead>\n    <tr style=\"text-align: right;\">\n      <th></th>\n      <th>Name</th>\n      <th>Version number(s)</th>\n      <th>Initial stablerelease date</th>\n      <th>Supported (security fixes)</th>\n      <th>API level</th>\n      <th>References</th>\n    </tr>\n  </thead>\n  <tbody>\n    <tr>\n      <th>No official codename</th>\n      <td>1.0</td>\n      <td>September 23</td>\n      <td>2008</td>\n      <td>No</td>\n      <td>1</td>\n      <td>[9]</td>\n    </tr>\n    <tr>\n      <th>1.1</th>\n      <td>February 9</td>\n      <td>2009</td>\n      <td>No</td>\n      <td>2</td>\n      <td>[9][14]</td>\n      <td>NaN</td>\n    </tr>\n    <tr>\n      <th>Cupcake</th>\n      <td>1.5</td>\n      <td>April 27</td>\n      <td>2009</td>\n      <td>No</td>\n      <td>3</td>\n      <td>[15]</td>\n    </tr>\n    <tr>\n      <th>Donut</th>\n      <td>1.6</td>\n      <td>September 15</td>\n      <td>2009</td>\n      <td>No</td>\n      <td>4</td>\n      <td>[16]</td>\n    </tr>\n    <tr>\n      <th>Eclair</th>\n      <td>2.0 – 2.1</td>\n      <td>October 26</td>\n      <td>2009</td>\n      <td>No</td>\n      <td>5 – 7</td>\n      <td>[17]</td>\n    </tr>\n    <tr>\n      <th>Froyo</th>\n      <td>2.2 – 2.2.3</td>\n      <td>May 20</td>\n      <td>2010</td>\n      <td>No</td>\n      <td>8</td>\n      <td>[18]</td>\n    </tr>\n    <tr>\n      <th>Gingerbread</th>\n      <td>2.3 – 2.3.7</td>\n      <td>December 6</td>\n      <td>2010</td>\n      <td>No</td>\n      <td>9 – 10</td>\n      <td>[19]</td>\n    </tr>\n    <tr>\n      <th>Honeycomb</th>\n      <td>3.0 – 3.2.6</td>\n      <td>February 22</td>\n      <td>2011</td>\n      <td>No</td>\n      <td>11 – 13</td>\n      <td>[20]</td>\n    </tr>\n    <tr>\n      <th>Ice Cream Sandwich</th>\n      <td>4.0 – 4.0.4</td>\n      <td>October 18</td>\n      <td>2011</td>\n      <td>No</td>\n      <td>14 – 15</td>\n      <td>[21]</td>\n    </tr>\n    <tr>\n      <th>Jelly Bean</th>\n      <td>4.1 – 4.3.1</td>\n      <td>July 9</td>\n      <td>2012</td>\n      <td>No</td>\n      <td>16 – 18</td>\n      <td>[22]</td>\n    </tr>\n    <tr>\n      <th>KitKat</th>\n      <td>4.4 – 4.4.4</td>\n      <td>October 31</td>\n      <td>2013</td>\n      <td>No</td>\n      <td>19 – 20</td>\n      <td>[23]</td>\n    </tr>\n    <tr>\n      <th>Lollipop</th>\n      <td>5.0 – 5.1.1</td>\n      <td>November 12</td>\n      <td>2014</td>\n      <td>No</td>\n      <td>21 – 22</td>\n      <td>[24]</td>\n    </tr>\n    <tr>\n      <th>Marshmallow</th>\n      <td>6.0 – 6.0.1</td>\n      <td>October 5</td>\n      <td>2015</td>\n      <td>No</td>\n      <td>23</td>\n      <td>[25]</td>\n    </tr>\n    <tr>\n      <th>Nougat</th>\n      <td>7.0 – 7.1.2</td>\n      <td>August 22</td>\n      <td>2016</td>\n      <td>No</td>\n      <td>24 – 25</td>\n      <td>[26][27][28][29]</td>\n    </tr>\n    <tr>\n      <th>Oreo</th>\n      <td>8.0 – 8.1</td>\n      <td>August 21</td>\n      <td>2017</td>\n      <td>Yes</td>\n      <td>26 – 27</td>\n      <td>[30]</td>\n    </tr>\n    <tr>\n      <th>Pie</th>\n      <td>9</td>\n      <td>August 6</td>\n      <td>2018</td>\n      <td>Yes</td>\n      <td>28</td>\n      <td>[31]</td>\n    </tr>\n    <tr>\n      <th>Android 10</th>\n      <td>10</td>\n      <td>September 3</td>\n      <td>2019</td>\n      <td>Yes</td>\n      <td>29</td>\n      <td>[32]</td>\n    </tr>\n  </tbody>\n</table>\n</div>"
     },
     "execution_count": 51,
     "metadata": {},
     "output_type": "execute_result"
    }
   ],
   "source": [
    "df"
   ],
   "metadata": {
    "collapsed": false,
    "pycharm": {
     "name": "#%%\n"
    }
   }
  },
  {
   "cell_type": "markdown",
   "source": [
    "## Loading Local files"
   ],
   "metadata": {
    "collapsed": false,
    "pycharm": {
     "name": "#%% md\n"
    }
   }
  },
  {
   "cell_type": "code",
   "execution_count": 53,
   "outputs": [
    {
     "ename": "FileNotFoundError",
     "evalue": "[Errno 2] No such file or directory: 'android.html'",
     "output_type": "error",
     "traceback": [
      "\u001B[0;31m---------------------------------------------------------------------------\u001B[0m",
      "\u001B[0;31mFileNotFoundError\u001B[0m                         Traceback (most recent call last)",
      "\u001B[0;32m<ipython-input-53-b1b003d8d2e8>\u001B[0m in \u001B[0;36m<module>\u001B[0;34m\u001B[0m\n\u001B[0;32m----> 1\u001B[0;31m \u001B[0;32mwith\u001B[0m \u001B[0mopen\u001B[0m\u001B[0;34m(\u001B[0m\u001B[0;34m'android.html'\u001B[0m\u001B[0;34m,\u001B[0m\u001B[0mencoding\u001B[0m\u001B[0;34m=\u001B[0m\u001B[0;34m'utf-8'\u001B[0m\u001B[0;34m)\u001B[0m \u001B[0;32mas\u001B[0m \u001B[0mf\u001B[0m\u001B[0;34m:\u001B[0m\u001B[0;34m\u001B[0m\u001B[0;34m\u001B[0m\u001B[0m\n\u001B[0m\u001B[1;32m      2\u001B[0m     \u001B[0mpage_soup\u001B[0m \u001B[0;34m=\u001B[0m \u001B[0msoup\u001B[0m\u001B[0;34m(\u001B[0m\u001B[0mf\u001B[0m\u001B[0;34m,\u001B[0m\u001B[0;34m'html.parser'\u001B[0m\u001B[0;34m)\u001B[0m\u001B[0;34m\u001B[0m\u001B[0;34m\u001B[0m\u001B[0m\n",
      "\u001B[0;31mFileNotFoundError\u001B[0m: [Errno 2] No such file or directory: 'android.html'"
     ]
    }
   ],
   "source": [
    "with open('android.html',encoding='utf-8') as f:\n",
    "    page_soup = soup(f,'html.parser')"
   ],
   "metadata": {
    "collapsed": false,
    "pycharm": {
     "name": "#%%\n"
    }
   }
  },
  {
   "cell_type": "code",
   "execution_count": 54,
   "outputs": [
    {
     "ename": "NameError",
     "evalue": "name 'page_soup' is not defined",
     "output_type": "error",
     "traceback": [
      "\u001B[0;31m---------------------------------------------------------------------------\u001B[0m",
      "\u001B[0;31mNameError\u001B[0m                                 Traceback (most recent call last)",
      "\u001B[0;32m<ipython-input-54-d8e1ba788699>\u001B[0m in \u001B[0;36m<module>\u001B[0;34m\u001B[0m\n\u001B[0;32m----> 1\u001B[0;31m \u001B[0mpage_soup\u001B[0m\u001B[0;34m.\u001B[0m\u001B[0mfind_all\u001B[0m\u001B[0;34m(\u001B[0m\u001B[0;34m'h1'\u001B[0m\u001B[0;34m)\u001B[0m\u001B[0;34m\u001B[0m\u001B[0;34m\u001B[0m\u001B[0m\n\u001B[0m",
      "\u001B[0;31mNameError\u001B[0m: name 'page_soup' is not defined"
     ]
    }
   ],
   "source": [
    "page_soup.find_all('h1')"
   ],
   "metadata": {
    "collapsed": false,
    "pycharm": {
     "name": "#%%\n"
    }
   }
  },
  {
   "cell_type": "code",
   "execution_count": 55,
   "outputs": [
    {
     "ename": "NameError",
     "evalue": "name 'page_soup' is not defined",
     "output_type": "error",
     "traceback": [
      "\u001B[0;31m---------------------------------------------------------------------------\u001B[0m",
      "\u001B[0;31mNameError\u001B[0m                                 Traceback (most recent call last)",
      "\u001B[0;32m<ipython-input-55-47b7afa947de>\u001B[0m in \u001B[0;36m<module>\u001B[0;34m\u001B[0m\n\u001B[0;32m----> 1\u001B[0;31m \u001B[0mpage_soup\u001B[0m\u001B[0;34m.\u001B[0m\u001B[0mfind_all\u001B[0m\u001B[0;34m(\u001B[0m\u001B[0;34m'table'\u001B[0m\u001B[0;34m)\u001B[0m\u001B[0;34m\u001B[0m\u001B[0;34m\u001B[0m\u001B[0m\n\u001B[0m",
      "\u001B[0;31mNameError\u001B[0m: name 'page_soup' is not defined"
     ]
    }
   ],
   "source": [
    "page_soup.find_all('table')"
   ],
   "metadata": {
    "collapsed": false,
    "pycharm": {
     "name": "#%%\n"
    }
   }
  },
  {
   "cell_type": "code",
   "execution_count": null,
   "outputs": [],
   "source": [],
   "metadata": {
    "collapsed": false,
    "pycharm": {
     "name": "#%%\n"
    }
   }
  }
 ],
 "metadata": {
  "kernelspec": {
   "display_name": "Python 3",
   "language": "python",
   "name": "python3"
  },
  "language_info": {
   "codemirror_mode": {
    "name": "ipython",
    "version": 2
   },
   "file_extension": ".py",
   "mimetype": "text/x-python",
   "name": "python",
   "nbconvert_exporter": "python",
   "pygments_lexer": "ipython2",
   "version": "2.7.6"
  }
 },
 "nbformat": 4,
 "nbformat_minor": 0
}