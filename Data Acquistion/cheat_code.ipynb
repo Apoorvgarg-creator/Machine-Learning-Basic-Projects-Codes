{
 "cells": [
  {
   "cell_type": "code",
   "execution_count": 2,
   "metadata": {
    "collapsed": true
   },
   "outputs": [
    {
     "ename": "KeyboardInterrupt",
     "evalue": "",
     "output_type": "error",
     "traceback": [
      "\u001B[0;31m---------------------------------------------------------------------------\u001B[0m",
      "\u001B[0;31mKeyboardInterrupt\u001B[0m                         Traceback (most recent call last)",
      "\u001B[0;32m<ipython-input-2-c6236a182aae>\u001B[0m in \u001B[0;36m<module>\u001B[0;34m\u001B[0m\n\u001B[1;32m     21\u001B[0m \u001B[0;34m\u001B[0m\u001B[0m\n\u001B[1;32m     22\u001B[0m \u001B[0mx_arg\u001B[0m \u001B[0;34m=\u001B[0m \u001B[0;34m'//span[contains(@title,'\u001B[0m \u001B[0;34m+\u001B[0m \u001B[0mtarget\u001B[0m \u001B[0;34m+\u001B[0m \u001B[0;34m')]'\u001B[0m\u001B[0;34m\u001B[0m\u001B[0;34m\u001B[0m\u001B[0m\n\u001B[0;32m---> 23\u001B[0;31m group_title = wait.until(EC.presence_of_element_located((\n\u001B[0m\u001B[1;32m     24\u001B[0m     By.XPATH, x_arg)))\n\u001B[1;32m     25\u001B[0m \u001B[0mgroup_title\u001B[0m\u001B[0;34m.\u001B[0m\u001B[0mclick\u001B[0m\u001B[0;34m(\u001B[0m\u001B[0;34m)\u001B[0m\u001B[0;34m\u001B[0m\u001B[0;34m\u001B[0m\u001B[0m\n",
      "\u001B[0;32m~/PycharmProjects/CB_lecture/venv/lib/python3.8/site-packages/selenium/webdriver/support/wait.py\u001B[0m in \u001B[0;36muntil\u001B[0;34m(self, method, message)\u001B[0m\n\u001B[1;32m     75\u001B[0m                 \u001B[0mscreen\u001B[0m \u001B[0;34m=\u001B[0m \u001B[0mgetattr\u001B[0m\u001B[0;34m(\u001B[0m\u001B[0mexc\u001B[0m\u001B[0;34m,\u001B[0m \u001B[0;34m'screen'\u001B[0m\u001B[0;34m,\u001B[0m \u001B[0;32mNone\u001B[0m\u001B[0;34m)\u001B[0m\u001B[0;34m\u001B[0m\u001B[0;34m\u001B[0m\u001B[0m\n\u001B[1;32m     76\u001B[0m                 \u001B[0mstacktrace\u001B[0m \u001B[0;34m=\u001B[0m \u001B[0mgetattr\u001B[0m\u001B[0;34m(\u001B[0m\u001B[0mexc\u001B[0m\u001B[0;34m,\u001B[0m \u001B[0;34m'stacktrace'\u001B[0m\u001B[0;34m,\u001B[0m \u001B[0;32mNone\u001B[0m\u001B[0;34m)\u001B[0m\u001B[0;34m\u001B[0m\u001B[0;34m\u001B[0m\u001B[0m\n\u001B[0;32m---> 77\u001B[0;31m             \u001B[0mtime\u001B[0m\u001B[0;34m.\u001B[0m\u001B[0msleep\u001B[0m\u001B[0;34m(\u001B[0m\u001B[0mself\u001B[0m\u001B[0;34m.\u001B[0m\u001B[0m_poll\u001B[0m\u001B[0;34m)\u001B[0m\u001B[0;34m\u001B[0m\u001B[0;34m\u001B[0m\u001B[0m\n\u001B[0m\u001B[1;32m     78\u001B[0m             \u001B[0;32mif\u001B[0m \u001B[0mtime\u001B[0m\u001B[0;34m.\u001B[0m\u001B[0mtime\u001B[0m\u001B[0;34m(\u001B[0m\u001B[0;34m)\u001B[0m \u001B[0;34m>\u001B[0m \u001B[0mend_time\u001B[0m\u001B[0;34m:\u001B[0m\u001B[0;34m\u001B[0m\u001B[0;34m\u001B[0m\u001B[0m\n\u001B[1;32m     79\u001B[0m                 \u001B[0;32mbreak\u001B[0m\u001B[0;34m\u001B[0m\u001B[0;34m\u001B[0m\u001B[0m\n",
      "\u001B[0;31mKeyboardInterrupt\u001B[0m: "
     ]
    }
   ],
   "source": [
    "from selenium import webdriver\n",
    "from selenium.webdriver.support.ui import WebDriverWait\n",
    "from selenium.webdriver.support import expected_conditions as EC\n",
    "from selenium.webdriver.common.keys import Keys\n",
    "from selenium.webdriver.common.by import By\n",
    "import time\n",
    "\n",
    "# Replace below path with the absolute path\n",
    "# to chromedriver in your computer\n",
    "driver = webdriver.Chrome('/Users/apoorvgarg/PycharmProjects/CB_lecture/Data Acquistion/chromedriver')\n",
    "\n",
    "driver.get(\"https://web.whatsapp.com/\")\n",
    "wait = WebDriverWait(driver, 600)\n",
    "\n",
    "# Replace 'Friend's Name' with the name of your friend\n",
    "# or the name of a group\n",
    "target = '\"Friend\\'s Name\"'\n",
    "\n",
    "# Replace the below string with your own message\n",
    "string = \"Message sent using Python!!!\"\n",
    "\n",
    "x_arg = '//span[contains(@title,' + target + ')]'\n",
    "group_title = wait.until(EC.presence_of_element_located((\n",
    "    By.XPATH, x_arg)))\n",
    "group_title.click()\n",
    "inp_xpath = '//div[@class=\"input\"][@dir=\"auto\"][@data-tab=\"1\"]'\n",
    "input_box = wait.until(EC.presence_of_element_located((\n",
    "    By.XPATH, inp_xpath)))\n",
    "for i in range(100):\n",
    "    input_box.send_keys(string + Keys.ENTER)\n",
    "    time.sleep(1)"
   ]
  },
  {
   "cell_type": "code",
   "execution_count": null,
   "outputs": [],
   "source": [],
   "metadata": {
    "collapsed": false,
    "pycharm": {
     "name": "#%%\n"
    }
   }
  }
 ],
 "metadata": {
  "kernelspec": {
   "display_name": "Python 3",
   "language": "python",
   "name": "python3"
  },
  "language_info": {
   "codemirror_mode": {
    "name": "ipython",
    "version": 2
   },
   "file_extension": ".py",
   "mimetype": "text/x-python",
   "name": "python",
   "nbconvert_exporter": "python",
   "pygments_lexer": "ipython2",
   "version": "2.7.6"
  }
 },
 "nbformat": 4,
 "nbformat_minor": 0
}