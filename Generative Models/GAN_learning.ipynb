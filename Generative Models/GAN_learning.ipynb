{
 "cells": [
  {
   "cell_type": "markdown",
   "metadata": {},
   "source": [
    "#### Learning Probability distribution !!"
   ]
  },
  {
   "cell_type": "code",
   "execution_count": 1,
   "metadata": {},
   "outputs": [],
   "source": [
    "import numpy as np\n",
    "import matplotlib.pyplot as plt"
   ]
  },
  {
   "cell_type": "code",
   "execution_count": 2,
   "metadata": {},
   "outputs": [],
   "source": [
    "Physics_std = 10\n",
    "Physics_mean = 80\n",
    "# Physics_ = Physics(SN)*std + mean  \n",
    "Physics = np.round(np.random.randn(500)*10 + 80)   # Standard Normal distibution i.e, mean=0 and std = 1\n",
    "Maths = np.round(np.random.randn(500)*20 + 5)\n"
   ]
  },
  {
   "cell_type": "code",
   "execution_count": 3,
   "metadata": {},
   "outputs": [],
   "source": [
    "# Maths"
   ]
  },
  {
   "cell_type": "code",
   "execution_count": 4,
   "metadata": {},
   "outputs": [],
   "source": [
    "# When we are solving a real life problem we are not given normal distribution, We are given the data of the above type\n",
    "# We need to figure out the function ourselves(Machine)"
   ]
  },
  {
   "cell_type": "code",
   "execution_count": 5,
   "metadata": {},
   "outputs": [
    {
     "data": {
      "image/png": "[encoded data removed]",
      "text/plain": [
       "<Figure size 432x288 with 1 Axes>"
      ]
     },
     "metadata": {
      "needs_background": "light"
     },
     "output_type": "display_data"
    }
   ],
   "source": [
    "plt.hist(Physics)\n",
    "plt.hist(Maths,alpha=0.7)\n",
    "plt.show()"
   ]
  },
  {
   "cell_type": "markdown",
   "metadata": {},
   "source": [
    "# Gan Training\n",
    "1. Generate a mini batch from generator using Noise-Prior (Ground Truth - 0)\n",
    "2. Select a mini batch from real training data (ground truth -1)\n",
    "3. Train only Discriminator on both batches separately \n",
    "    - Consider Generator as a Frozen\n",
    "4. Train G using random noise as input and 1 as ground truth as 1 for all examples\n",
    "    - Consider Discriminator as Frozen\n",
    "   "
   ]
  },
  {
   "cell_type": "markdown",
   "metadata": {},
   "source": [
    "# Training Tricks\n",
    "- Normalize inputs between [-1,1] and use tanh as activation for generators\n",
    "- Noise should be sample from Gaussian Distribution\n",
    "- Avoid Sparse Gradients\n",
    "    - Prefer leaky Relu\n",
    "    - Prefer Strided Convolutions instead of max pooling\n",
    "    - Use Adam for optimizations\n",
    "    - One sided label smoothing =. use 0 and 0.9 instead of 0 and 1 for discriminator"
   ]
  },
  {
   "cell_type": "code",
   "execution_count": null,
   "metadata": {},
   "outputs": [],
   "source": []
  }
 ],
 "metadata": {
  "kernelspec": {
   "display_name": "Python 3",
   "language": "python",
   "name": "python3"
  },
  "language_info": {
   "codemirror_mode": {
    "name": "ipython",
    "version": 3
   },
   "file_extension": ".py",
   "mimetype": "text/x-python",
   "name": "python",
   "nbconvert_exporter": "python",
   "pygments_lexer": "ipython3",
   "version": "3.8.3"
  }
 },
 "nbformat": 4,
 "nbformat_minor": 4
}
