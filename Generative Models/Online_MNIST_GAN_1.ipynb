{
 "cells": [
  {
   "cell_type": "code",
   "execution_count": 2,
   "metadata": {},
   "outputs": [],
   "source": [
    "from keras.datasets import mnist\n",
    "from keras.layers import *\n",
    "from keras.layers.advanced_activations import LeakyReLU\n",
    "from keras.models import Sequential, Model\n",
    "from keras.optimizers import Adam\n",
    "\n",
    "import numpy as np\n",
    "import math\n",
    "import matplotlib.pyplot as plt"
   ]
  },
  {
   "cell_type": "code",
   "execution_count": 3,
   "metadata": {},
   "outputs": [],
   "source": [
    "(X_Train,_),(_,_) = mnist.load_data()"
   ]
  },
  {
   "cell_type": "code",
   "execution_count": 4,
   "metadata": {},
   "outputs": [
    {
     "name": "stdout",
     "output_type": "stream",
     "text": [
      "(60000, 28, 28)\n"
     ]
    }
   ],
   "source": [
    "print(X_Train.shape)"
   ]
  },
  {
   "cell_type": "code",
   "execution_count": 6,
   "metadata": {},
   "outputs": [
    {
     "data": {
      "image/png": "[encoded data removed]",
      "text/plain": [
       "<Figure size 432x288 with 1 Axes>"
      ]
     },
     "metadata": {
      "needs_background": "light"
     },
     "output_type": "display_data"
    }
   ],
   "source": [
    "plt.imshow(X_Train[0],cmap='gray')\n",
    "plt.show()"
   ]
  },
  {
   "cell_type": "code",
   "execution_count": 8,
   "metadata": {},
   "outputs": [
    {
     "name": "stdout",
     "output_type": "stream",
     "text": [
      "Min. value in X_Train -1.0078431\n",
      "Max. value in X_Train -0.99215686\n",
      "(60000, 28, 28)\n"
     ]
    }
   ],
   "source": [
    "# NOrmalize this data [-1,1]\n",
    "X_Train = (X_Train.astype('float32')-127.5)/127.5\n",
    "print(\"Min. value in X_Train\",np.min(X_Train))\n",
    "print(\"Max. value in X_Train\",np.max(X_Train))\n",
    "\n",
    "print(X_Train.shape)"
   ]
  },
  {
   "cell_type": "code",
   "execution_count": 12,
   "metadata": {},
   "outputs": [],
   "source": [
    "# Constants\n",
    "total_epochs = 50\n",
    "batch_size = 256\n",
    "no_of_batches = int(X_Train.shape[0]/batch_size)\n",
    "half_batch = 128 \n",
    "Noise_dim = 100 # upsample into 784 dim_vector\n",
    "adam = Adam(lr=2e-4,beta_1=0.5)\n"
   ]
  },
  {
   "cell_type": "code",
   "execution_count": 13,
   "metadata": {},
   "outputs": [
    {
     "name": "stdout",
     "output_type": "stream",
     "text": [
      "Model: \"sequential_1\"\n",
      "_________________________________________________________________\n",
      "Layer (type)                 Output Shape              Param #   \n",
      "=================================================================\n",
      "dense (Dense)                (None, 256)               25856     \n",
      "_________________________________________________________________\n",
      "leaky_re_lu (LeakyReLU)      (None, 256)               0         \n",
      "_________________________________________________________________\n",
      "dense_1 (Dense)              (None, 512)               131584    \n",
      "_________________________________________________________________\n",
      "leaky_re_lu_1 (LeakyReLU)    (None, 512)               0         \n",
      "_________________________________________________________________\n",
      "dense_2 (Dense)              (None, 1024)              525312    \n",
      "_________________________________________________________________\n",
      "leaky_re_lu_2 (LeakyReLU)    (None, 1024)              0         \n",
      "_________________________________________________________________\n",
      "dense_3 (Dense)              (None, 784)               803600    \n",
      "=================================================================\n",
      "Total params: 1,486,352\n",
      "Trainable params: 1,486,352\n",
      "Non-trainable params: 0\n",
      "_________________________________________________________________\n"
     ]
    }
   ],
   "source": [
    "# Generator\n",
    "generator = Sequential()\n",
    "generator.add(Dense(256,input_shape=(Noise_dim,)))\n",
    "generator.add(LeakyReLU(0.2))\n",
    "generator.add(Dense(512))\n",
    "generator.add(LeakyReLU(0.2))\n",
    "generator.add(Dense(1024))\n",
    "generator.add(LeakyReLU(0.2))\n",
    "generator.add(Dense(784,activation='tanh'))\n",
    "\n",
    "generator.compile(loss='binar_crossentropy',optimizer=adam)\n",
    "generator.summary()\n"
   ]
  },
  {
   "cell_type": "code",
   "execution_count": 26,
   "metadata": {},
   "outputs": [
    {
     "name": "stdout",
     "output_type": "stream",
     "text": [
      "Model: \"sequential_6\"\n",
      "_________________________________________________________________\n",
      "Layer (type)                 Output Shape              Param #   \n",
      "=================================================================\n",
      "dense_16 (Dense)             (None, 512)               401920    \n",
      "_________________________________________________________________\n",
      "leaky_re_lu_11 (LeakyReLU)   (None, 512)               0         \n",
      "_________________________________________________________________\n",
      "dense_17 (Dense)             (None, 256)               131328    \n",
      "_________________________________________________________________\n",
      "leaky_re_lu_12 (LeakyReLU)   (None, 256)               0         \n",
      "_________________________________________________________________\n",
      "dense_18 (Dense)             (None, 1)                 257       \n",
      "=================================================================\n",
      "Total params: 533,505\n",
      "Trainable params: 533,505\n",
      "Non-trainable params: 0\n",
      "_________________________________________________________________\n"
     ]
    }
   ],
   "source": [
    "# discriminator \n",
    "discriminator = Sequential()\n",
    "discriminator.add(Dense(512,input_shape=(784,)))\n",
    "discriminator.add(LeakyReLU(0.2))\n",
    "discriminator.add(Dense(256))\n",
    "discriminator.add(LeakyReLU(0.2))\n",
    "discriminator.add(Dense(1,activation='sigmoid'))\n",
    "discriminator.compile(loss='binary_crossentropy',optimizer=adam)\n",
    "discriminator.summary()\n"
   ]
  },
  {
   "cell_type": "markdown",
   "metadata": {},
   "source": [
    "#### GAN -->"
   ]
  },
  {
   "cell_type": "code",
   "execution_count": 27,
   "metadata": {},
   "outputs": [],
   "source": [
    "# GAN [ STEP _ 2 ]\n",
    "discriminator.trainable = False\n",
    "gan_input = Input(shape=(Noise_dim,)) # Acts as a placeholder\n",
    "generated_img = generator(gan_input)\n",
    "gan_output = discriminator(generated_img)\n",
    "\n",
    "# Functional API\n",
    "model = Model(gan_input,gan_output)\n",
    "model.compile(loss='binary_crossentropy',optimizer=adam)\n"
   ]
  },
  {
   "cell_type": "code",
   "execution_count": 28,
   "metadata": {},
   "outputs": [
    {
     "data": {
      "text/plain": [
       "(60000, 784)"
      ]
     },
     "execution_count": 28,
     "metadata": {},
     "output_type": "execute_result"
    }
   ],
   "source": [
    "X_Train = X_Train.reshape((-1,784))\n",
    "X_Train.shape"
   ]
  },
  {
   "cell_type": "code",
   "execution_count": 34,
   "metadata": {},
   "outputs": [],
   "source": [
    "def save_imgs(epochs,samples=100):\n",
    "    noise = np.random.normal(0,1,size=(samples,Noise_dim))\n",
    "    generated_imgs = generator.predict(noise)\n",
    "    generator_imgs = generated_imgs.reshape(samples,28,28)\n",
    "    \n",
    "    plt.figure(figsize=(10,10))\n",
    "    for i in range(samples):\n",
    "        plt.subplot(10,10,i+1)\n",
    "        plt.imshow(generated_imgs[i],inteplotation='nearest',cmap='grey')\n",
    "        plt.axis('off')\n",
    "        \n",
    "    plt.tight_layout()\n",
    "    plt.savefig('images/gan_output_epochs_{0}.png'.format(epochs+1))\n",
    "    plt.show()"
   ]
  },
  {
   "cell_type": "code",
   "execution_count": 31,
   "metadata": {},
   "outputs": [
    {
     "name": "stdout",
     "output_type": "stream",
     "text": [
      "Epoch 1 Discriminator loss 0.7072 Generator loss 0.8234\n",
      "Epoch 2 Discriminator loss 0.7060 Generator loss 0.8213\n",
      "Epoch 3 Discriminator loss 0.7010 Generator loss 0.8166\n",
      "Epoch 4 Discriminator loss 0.7061 Generator loss 0.8207\n",
      "Epoch 5 Discriminator loss 0.6971 Generator loss 0.8107\n",
      "Epoch 6 Discriminator loss 0.7044 Generator loss 0.8179\n",
      "Epoch 7 Discriminator loss 0.7004 Generator loss 0.8116\n",
      "Epoch 8 Discriminator loss 0.7012 Generator loss 0.8132\n",
      "Epoch 9 Discriminator loss 0.6965 Generator loss 0.8057\n",
      "Epoch 10 Discriminator loss 0.7024 Generator loss 0.8128\n",
      "Epoch 11 Discriminator loss 0.7154 Generator loss 0.8161\n",
      "Epoch 12 Discriminator loss 0.6953 Generator loss 0.7955\n",
      "Epoch 13 Discriminator loss 0.6993 Generator loss 0.8050\n",
      "Epoch 14 Discriminator loss 0.7034 Generator loss 0.8055\n",
      "Epoch 15 Discriminator loss 0.6921 Generator loss 0.7906\n",
      "Epoch 16 Discriminator loss 0.7042 Generator loss 0.8027\n",
      "Epoch 17 Discriminator loss 0.6951 Generator loss 0.7996\n",
      "Epoch 18 Discriminator loss 0.6968 Generator loss 0.8032\n",
      "Epoch 19 Discriminator loss 0.7043 Generator loss 0.8170\n",
      "Epoch 20 Discriminator loss 0.6974 Generator loss 0.7885\n",
      "Epoch 21 Discriminator loss 0.6938 Generator loss 0.7998\n",
      "Epoch 22 Discriminator loss 0.7072 Generator loss 0.8087\n",
      "Epoch 23 Discriminator loss 0.6950 Generator loss 0.7895\n",
      "Epoch 24 Discriminator loss 0.6984 Generator loss 0.8078\n",
      "Epoch 25 Discriminator loss 0.6955 Generator loss 0.7864\n",
      "Epoch 26 Discriminator loss 0.6946 Generator loss 0.8007\n",
      "Epoch 27 Discriminator loss 0.6990 Generator loss 0.8100\n",
      "Epoch 28 Discriminator loss 0.7004 Generator loss 0.8053\n",
      "Epoch 29 Discriminator loss 0.6968 Generator loss 0.7872\n",
      "Epoch 30 Discriminator loss 0.6896 Generator loss 0.7978\n",
      "Epoch 31 Discriminator loss 0.7101 Generator loss 0.8118\n",
      "Epoch 32 Discriminator loss 0.6914 Generator loss 0.7996\n",
      "Epoch 33 Discriminator loss 0.6943 Generator loss 0.8033\n",
      "Epoch 34 Discriminator loss 0.6896 Generator loss 0.7977\n",
      "Epoch 35 Discriminator loss 0.7004 Generator loss 0.8056\n",
      "Epoch 36 Discriminator loss 0.7026 Generator loss 0.8071\n",
      "Epoch 37 Discriminator loss 0.6926 Generator loss 0.7941\n",
      "Epoch 38 Discriminator loss 0.6981 Generator loss 0.8080\n",
      "Epoch 39 Discriminator loss 0.6963 Generator loss 0.7894\n",
      "Epoch 40 Discriminator loss 0.6904 Generator loss 0.7967\n",
      "Epoch 41 Discriminator loss 0.7017 Generator loss 0.8091\n",
      "Epoch 42 Discriminator loss 0.6923 Generator loss 0.7938\n",
      "Epoch 43 Discriminator loss 0.6973 Generator loss 0.8027\n",
      "Epoch 44 Discriminator loss 0.6914 Generator loss 0.7918\n",
      "Epoch 45 Discriminator loss 0.6996 Generator loss 0.7981\n",
      "Epoch 46 Discriminator loss 0.6900 Generator loss 0.7942\n",
      "Epoch 47 Discriminator loss 0.7022 Generator loss 0.8024\n",
      "Epoch 48 Discriminator loss 0.6914 Generator loss 0.7973\n",
      "Epoch 49 Discriminator loss 0.6957 Generator loss 0.8049\n",
      "Epoch 50 Discriminator loss 0.6918 Generator loss 0.7915\n"
     ]
    }
   ],
   "source": [
    "# Training Time !! -->\n",
    "# training is a two step process -->\n",
    "for epoch in range(total_epochs):\n",
    "    epoch_d_loss = 0.\n",
    "    epoch_g_loss = 0.\n",
    "    \n",
    "    # Mini Batch SGD\n",
    "    for step in range(no_of_batches):\n",
    "        \n",
    "        # Step - 1 Discriminator\n",
    "        # 50% real data + 50% fake data\n",
    "        \n",
    "        # real data\n",
    "        idx = np.random.randint(0,X_Train.shape[0],half_batch)\n",
    "        real_imgs = X_Train[idx]\n",
    "        # fake data\n",
    "        noise = np.random.normal(0,1,size=(half_batch,Noise_dim))\n",
    "        fake_imgs = generator.predict(noise)  # Forward # No training so far\n",
    "        \n",
    "        # Labels\n",
    "        real_y = np.ones((half_batch,1))*0.9 # One sided label smoothing for discriminators\n",
    "        fake_y = np.zeros((half_batch,1))\n",
    "        \n",
    "        # Train our discriminator\n",
    "        d_loss_real = discriminator.train_on_batch(real_imgs,real_y)\n",
    "        d_loss_fake = discriminator.train_on_batch(fake_imgs,fake_y)\n",
    "        d_loss = 0.5*(d_loss_fake+d_loss_real)\n",
    "        \n",
    "        epoch_d_loss += d_loss\n",
    "        \n",
    "        # Train the generator (considering frozen discriminator)\n",
    "        noise = np.random.normal(0,1,size=(batch_size,Noise_dim))\n",
    "        ground_truth_y = np.ones((batch_size,1))\n",
    "        g_loss = model.train_on_batch(noise,ground_truth_y)  # model --> the whole model\n",
    "        epoch_g_loss += g_loss\n",
    "    print('Epoch %d Discriminator loss %.4f Generator loss %.4f'%((epoch+1),epoch_d_loss/no_of_batches,epoch_g_loss/no_of_batches))\n",
    "    \n",
    "    if (epoch+1)%5 == 0:\n",
    "        generator.save('model/gen_generator_{0}.h5'.format(epoch+1))\n",
    "        save_imgs(epoch)\n",
    "        "
   ]
  },
  {
   "cell_type": "code",
   "execution_count": 32,
   "metadata": {},
   "outputs": [],
   "source": []
  },
  {
   "cell_type": "code",
   "execution_count": 33,
   "metadata": {},
   "outputs": [],
   "source": [
    "# !mkdir images"
   ]
  },
  {
   "cell_type": "code",
   "execution_count": null,
   "metadata": {},
   "outputs": [],
   "source": [
    "# !zip -r /content/images.zip /content/images "
   ]
  },
  {
   "cell_type": "code",
   "execution_count": null,
   "metadata": {},
   "outputs": [],
   "source": [
    "# from google.colab import files\n",
    "# files.download('images.zip')"
   ]
  },
  {
   "cell_type": "code",
   "execution_count": 41,
   "metadata": {},
   "outputs": [
    {
     "data": {
      "image/png": "[encoded data removed]",
      "text/plain": [
       "<Figure size 432x288 with 1 Axes>"
      ]
     },
     "metadata": {
      "needs_background": "light"
     },
     "output_type": "display_data"
    }
   ],
   "source": [
    "plt.plot(epoch_d_loss,label='DISC')\n",
    "plt.plot(epoch_g_loss,label='Gen')\n",
    "plt.legend()\n",
    "plt.show()"
   ]
  },
  {
   "cell_type": "code",
   "execution_count": null,
   "metadata": {},
   "outputs": [],
   "source": []
  }
 ],
 "metadata": {
  "kernelspec": {
   "display_name": "Python 3",
   "language": "python",
   "name": "python3"
  },
  "language_info": {
   "codemirror_mode": {
    "name": "ipython",
    "version": 3
   },
   "file_extension": ".py",
   "mimetype": "text/x-python",
   "name": "python",
   "nbconvert_exporter": "python",
   "pygments_lexer": "ipython3",
   "version": "3.8.3"
  }
 },
 "nbformat": 4,
 "nbformat_minor": 4
}
