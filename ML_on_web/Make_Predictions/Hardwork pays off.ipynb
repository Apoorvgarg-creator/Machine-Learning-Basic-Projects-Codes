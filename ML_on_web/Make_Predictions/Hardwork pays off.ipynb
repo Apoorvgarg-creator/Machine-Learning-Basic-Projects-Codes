{
 "cells": [
  {
   "cell_type": "markdown",
   "metadata": {
    "collapsed": true,
    "pycharm": {
     "name": "#%% md\n"
    }
   },
   "source": [
    "## Challenge - Hardwork pays off"
   ]
  },
  {
   "cell_type": "code",
   "execution_count": 23,
   "metadata": {
    "pycharm": {
     "name": "#%%\n"
    }
   },
   "outputs": [],
   "source": [
    "import numpy as np\n",
    "import pandas as pd\n",
    "import matplotlib.pyplot as plt"
   ]
  },
  {
   "cell_type": "markdown",
   "metadata": {
    "pycharm": {
     "name": "#%% md\n"
    }
   },
   "source": [
    "## Data preparation\n",
    "- download\n",
    "- load\n",
    "- normalise\n",
    "- visualise"
   ]
  },
  {
   "cell_type": "code",
   "execution_count": 24,
   "metadata": {
    "pycharm": {
     "name": "#%%\n"
    }
   },
   "outputs": [],
   "source": [
    "# Load the csv\n",
    "X = pd.read_csv(\"/Users/apoorvgarg/PycharmProjects/CB_lecture/Challenge/Training Data_Hard/Linear_X_Train.csv\")\n",
    "y = pd.read_csv(\"/Users/apoorvgarg/PycharmProjects/CB_lecture/Challenge/Training Data_Hard/Linear_Y_Train.csv\")"
   ]
  },
  {
   "cell_type": "code",
   "execution_count": 25,
   "metadata": {
    "pycharm": {
     "name": "#%%\n"
    }
   },
   "outputs": [],
   "source": [
    "X = X.values"
   ]
  },
  {
   "cell_type": "code",
   "execution_count": 26,
   "metadata": {
    "pycharm": {
     "name": "#%%\n"
    }
   },
   "outputs": [],
   "source": [
    "\n",
    "y = y.values"
   ]
  },
  {
   "cell_type": "code",
   "execution_count": 27,
   "metadata": {
    "pycharm": {
     "name": "#%%\n"
    }
   },
   "outputs": [
    {
     "name": "stdout",
     "output_type": "stream",
     "text": [
      "-0.03779466168006855 0.9920801322508517\n"
     ]
    }
   ],
   "source": [
    "#Normalise the data\n",
    "X = X.reshape((-1,))\n",
    "y = y.reshape((-1,))\n",
    "mean = X.mean()\n",
    "std = X.std()\n",
    "print(mean,std)\n",
    "# since std is nearly 1 that shows the data is normalised\n",
    "X = (X-mean)/std"
   ]
  },
  {
   "cell_type": "code",
   "execution_count": 28,
   "metadata": {
    "pycharm": {
     "name": "#%%\n"
    }
   },
   "outputs": [
    {
     "data": {
      "image/png": "[encoded data removed]",
      "text/plain": [
       "<Figure size 576x396 with 1 Axes>"
      ]
     },
     "metadata": {},
     "output_type": "display_data"
    }
   ],
   "source": [
    "plt.style.use(\"seaborn\")\n",
    "plt.scatter(X,y,label=\"Train\",color=\"orange\")\n",
    "plt.title(\" Hardwork vs Performance\")\n",
    "plt.xlabel(\"hardwork\")\n",
    "plt.ylabel(\"Performance\")\n",
    "plt.legend()\n",
    "plt.show()"
   ]
  },
  {
   "cell_type": "markdown",
   "metadata": {
    "pycharm": {
     "name": "#%% md\n"
    }
   },
   "source": [
    "## Gradient descent\n",
    "--> with the help of gradient descent we find that value of theta that gives minimum error"
   ]
  },
  {
   "cell_type": "code",
   "execution_count": 44,
   "metadata": {
    "pycharm": {
     "name": "#%%\n"
    }
   },
   "outputs": [],
   "source": [
    "class Model:\n",
    "    def hypothesis(self,x,theta):\n",
    "        # theta = [theta0, theta1]\n",
    "        y_ = theta[0] + theta[1]*x\n",
    "        return y_\n",
    "\n",
    "    def gradient(self,X,Y,theta):\n",
    "        m=X.shape[0]\n",
    "        grad = np.zeros((2,))\n",
    "        for i in range(m):\n",
    "            x = X[i]\n",
    "            y_= hypothesis(x,theta)\n",
    "            y = Y[i]\n",
    "\n",
    "            grad[0] += (y_ - y)\n",
    "            grad[1] += (y_ - y)*x\n",
    "        return grad/m\n",
    "\n",
    "    def error(self,X,Y,theta):\n",
    "        m = X.shape[0]\n",
    "        total_error = 0.0\n",
    "        for i in range(m):\n",
    "            y_ = hypothesis(X[i],theta)\n",
    "            total_error += (y_ - Y[i])**2\n",
    "\n",
    "        return (total_error/m)\n",
    "\n",
    "    def gradient_descent(self,X,Y,max_steps=100,learning_rate = 0.1):\n",
    "        theta =np.zeros((2,))\n",
    "        theta_list = []\n",
    "        error_list = []\n",
    "        for i in range(max_steps):\n",
    "            grad = gradient(X,Y,theta)\n",
    "            e = error(X,Y,theta)\n",
    "            theta[0] = theta[0] - learning_rate*grad[0]\n",
    "            theta[1] = theta[1] - learning_rate*grad[1]\n",
    "\n",
    "            theta_list.append((theta[0],theta[1]))\n",
    "            error_list.append(e)\n",
    "\n",
    "        return theta,error_list,theta_list"
   ]
  },
  {
   "cell_type": "code",
   "execution_count": 45,
   "metadata": {},
   "outputs": [],
   "source": [
    "lr = Model()"
   ]
  },
  {
   "cell_type": "code",
   "execution_count": 46,
   "metadata": {
    "pycharm": {
     "name": "#%%\n"
    }
   },
   "outputs": [],
   "source": [
    "Ot, el, tl = lr.gradient_descent(X,y)"
   ]
  },
  {
   "cell_type": "markdown",
   "metadata": {
    "pycharm": {
     "name": "#%% md\n"
    }
   },
   "source": [
    "### Prediction and best line"
   ]
  },
  {
   "cell_type": "code",
   "execution_count": 47,
   "metadata": {
    "pycharm": {
     "name": "#%%\n"
    }
   },
   "outputs": [],
   "source": [
    "y_ = lr.hypothesis(X,Ot)"
   ]
  },
  {
   "cell_type": "code",
   "execution_count": 48,
   "metadata": {
    "pycharm": {
     "name": "#%%\n"
    }
   },
   "outputs": [
    {
     "data": {
      "text/plain": [
       "array([-19.5733619 , -43.69571729,  86.4848761 , ..., -20.85044708,\n",
       "       138.70197319, -35.87897262])"
      ]
     },
     "execution_count": 48,
     "metadata": {},
     "output_type": "execute_result"
    }
   ],
   "source": [
    "y_"
   ]
  },
  {
   "cell_type": "markdown",
   "metadata": {},
   "source": [
    "## Save Model"
   ]
  },
  {
   "cell_type": "code",
   "execution_count": 51,
   "metadata": {},
   "outputs": [
    {
     "ename": "ModuleNotFoundError",
     "evalue": "No module named 'sklearn.externals.joblib'",
     "output_type": "error",
     "traceback": [
      "\u001b[0;31m---------------------------------------------------------------------------\u001b[0m",
      "\u001b[0;31mModuleNotFoundError\u001b[0m                       Traceback (most recent call last)",
      "\u001b[0;32m<ipython-input-51-704c0d35898e>\u001b[0m in \u001b[0;36m<module>\u001b[0;34m\u001b[0m\n\u001b[0;32m----> 1\u001b[0;31m \u001b[0;32mimport\u001b[0m \u001b[0msklearn\u001b[0m\u001b[0;34m.\u001b[0m\u001b[0mexternals\u001b[0m\u001b[0;34m.\u001b[0m\u001b[0mjoblib\u001b[0m \u001b[0;32mas\u001b[0m \u001b[0mextjoblib\u001b[0m\u001b[0;34m\u001b[0m\u001b[0;34m\u001b[0m\u001b[0m\n\u001b[0m\u001b[1;32m      2\u001b[0m \u001b[0;32mimport\u001b[0m \u001b[0mjoblib\u001b[0m\u001b[0;34m\u001b[0m\u001b[0;34m\u001b[0m\u001b[0m\n",
      "\u001b[0;31mModuleNotFoundError\u001b[0m: No module named 'sklearn.externals.joblib'"
     ]
    }
   ],
   "source": [
    "import sklearn.externals.joblib as extjoblib\n",
    "import joblib"
   ]
  },
  {
   "cell_type": "code",
   "execution_count": null,
   "metadata": {},
   "outputs": [],
   "source": []
  },
  {
   "cell_type": "code",
   "execution_count": null,
   "metadata": {},
   "outputs": [],
   "source": []
  }
 ],
 "metadata": {
  "kernelspec": {
   "display_name": "Python 3",
   "language": "python",
   "name": "python3"
  },
  "language_info": {
   "codemirror_mode": {
    "name": "ipython",
    "version": 3
   },
   "file_extension": ".py",
   "mimetype": "text/x-python",
   "name": "python",
   "nbconvert_exporter": "python",
   "pygments_lexer": "ipython3",
   "version": "3.8.3"
  }
 },
 "nbformat": 4,
 "nbformat_minor": 1
}
