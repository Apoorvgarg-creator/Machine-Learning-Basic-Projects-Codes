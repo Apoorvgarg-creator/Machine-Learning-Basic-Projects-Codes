{
 "cells": [
  {
   "cell_type": "markdown",
   "metadata": {
    "collapsed": true,
    "pycharm": {
     "name": "#%% md\n"
    }
   },
   "source": [
    "### K-Means Clustering\n",
    "- Unsupervised learning\n",
    "- Common clustering technique, helps to solve many problems efficiently\n",
    "- K-Means is an example of hard clustering, where every pt. belongs only to one cluster"
   ]
  },
  {
   "cell_type": "markdown",
   "source": [
    "### Motivational problem -\n",
    "**Problem statement** Given the list of locations of customers who frequently order Pizza we want to find out optimal\n",
    "locations of Pizza Parlours where they should be opened"
   ],
   "metadata": {
    "collapsed": false,
    "pycharm": {
     "name": "#%% md\n"
    }
   }
  },
  {
   "cell_type": "markdown",
   "source": [
    "- **Step 1** Initialise k number of Pizza parlour randomly\n",
    "- **Step 2(also called the E Step)** Assign each customer to its nearest Pizza center\n",
    "- **Step 3(also called the M Steps)** Update the center location by taking mean of customers assigned to it\n",
    "- **Step 4** Repeat step 2 and step 3 until convergence"
   ],
   "metadata": {
    "collapsed": false,
    "pycharm": {
     "name": "#%% md\n"
    }
   }
  },
  {
   "cell_type": "markdown",
   "source": [
    "### K-Means Algorithm\n",
    "- **INPUT DATA:** X = {x1,x2,...,xN}\n",
    "- **GOAL:** Partition the data among some K number of cluster. let us assume k is known to us\n",
    "\n",
    "Let uk denote the center of kth cluster(uk will be a vector)\n",
    "\n",
    "So we need to find an assignment of data points to cluster, as well as a set of cluster centers(uk), such that the sum\n",
    "of the squares of the distances of each data point to its closet cluster center uk,is minimum"
   ],
   "metadata": {
    "collapsed": false,
    "pycharm": {
     "name": "#%% md\n"
    }
   }
  },
  {
   "cell_type": "markdown",
   "source": [
    "### Implementation"
   ],
   "metadata": {
    "collapsed": false,
    "pycharm": {
     "name": "#%% md\n"
    }
   }
  },
  {
   "cell_type": "code",
   "execution_count": 64,
   "outputs": [],
   "source": [
    "import numpy as np\n",
    "import matplotlib.pyplot as plt\n",
    "from sklearn.datasets import make_blobs"
   ],
   "metadata": {
    "collapsed": false,
    "pycharm": {
     "name": "#%%\n"
    }
   }
  },
  {
   "cell_type": "markdown",
   "source": [
    "### Dataset implementation"
   ],
   "metadata": {
    "collapsed": false,
    "pycharm": {
     "name": "#%% md\n"
    }
   }
  },
  {
   "cell_type": "code",
   "execution_count": 65,
   "outputs": [],
   "source": [
    "X,y = make_blobs(n_samples=500,n_features=2,centers=5,random_state=3)"
   ],
   "metadata": {
    "collapsed": false,
    "pycharm": {
     "name": "#%%\n"
    }
   }
  },
  {
   "cell_type": "code",
   "execution_count": 66,
   "outputs": [
    {
     "data": {
      "text/plain": "<Figure size 432x288 with 1 Axes>",
      "image/png": "[encoded data removed]"
     },
     "metadata": {
      "needs_background": "light"
     },
     "output_type": "display_data"
    }
   ],
   "source": [
    "plt.figure(0)\n",
    "plt.grid(True)\n",
    "plt.scatter(X[:,0],X[:,1])\n",
    "plt.show()"
   ],
   "metadata": {
    "collapsed": false,
    "pycharm": {
     "name": "#%%\n"
    }
   }
  },
  {
   "cell_type": "code",
   "execution_count": 67,
   "outputs": [],
   "source": [
    "k = 5\n",
    "color = ['green','red','blue','yellow','orange']\n",
    "\n",
    "clusters = {}\n",
    "# Step-1\n",
    "for i in range(k):\n",
    "    center  = 10*(2*np.random.random((X.shape[1],))-1)\n",
    "    points = []\n",
    "\n",
    "    cluster = {\n",
    "        'center':center,\n",
    "        'points':points,\n",
    "        'color':color[i]\n",
    "    }\n",
    "\n",
    "    clusters[i] = cluster\n"
   ],
   "metadata": {
    "collapsed": false,
    "pycharm": {
     "name": "#%%\n"
    }
   }
  },
  {
   "cell_type": "code",
   "execution_count": 67,
   "outputs": [],
   "source": [],
   "metadata": {
    "collapsed": false,
    "pycharm": {
     "name": "#%%\n"
    }
   }
  },
  {
   "cell_type": "code",
   "execution_count": 68,
   "outputs": [],
   "source": [
    "def distance(v1, v2):\n",
    "    return np.sqrt(np.sum((v1 - v2)**2))"
   ],
   "metadata": {
    "collapsed": false,
    "pycharm": {
     "name": "#%%\n"
    }
   }
  },
  {
   "cell_type": "code",
   "execution_count": 69,
   "outputs": [],
   "source": [
    "# Step-2\n",
    "def assignPointTOClusters(clusters):  #E-Step\n",
    "    for ix in range(X.shape[0]):\n",
    "        dist = []\n",
    "        curr_x = X[ix]\n",
    "        for kx in range(k):\n",
    "            d = distance(curr_x,clusters[kx]['center'])\n",
    "            dist.append(d)\n",
    "\n",
    "        current_cluster = np.argmin(dist)\n",
    "\n",
    "        clusters[current_cluster]['points'].append(curr_x)"
   ],
   "metadata": {
    "collapsed": false,
    "pycharm": {
     "name": "#%%\n"
    }
   }
  },
  {
   "cell_type": "code",
   "execution_count": 70,
   "outputs": [],
   "source": [
    "## There may be a chance that our points list in cluster dictionary is empty\n",
    "# Implement M step\n",
    "def updateCluster(clusters): # M-Step\n",
    "    for kx in range(k):\n",
    "        pts = np.array(clusters[kx]['points'])\n",
    "\n",
    "        if pts.shape[0]>0:  # to handle in case of some zero points case\n",
    "            new_u = pts.mean(axis=0)\n",
    "            clusters[kx]['center'] = new_u\n",
    "            clusters[kx]['points'] = []\n",
    "\n",
    "def plotCluster(cluster):\n",
    "\n",
    "    for kx in range(k):\n",
    "        pts = np.array(clusters[kx]['points'])\n",
    "\n",
    "        # plots the points\n",
    "        try:\n",
    "            plt.scatter(pts[:,0],pts[:,1],color= clusters[kx]['color'])\n",
    "        except:\n",
    "            pass\n",
    "\n",
    "        #plot the cluster centers\n",
    "        uk = clusters[kx]['center']\n",
    "        plt.scatter(uk[0],uk[1],color='black',marker=\"*\")"
   ],
   "metadata": {
    "collapsed": false,
    "pycharm": {
     "name": "#%%\n"
    }
   }
  },
  {
   "cell_type": "code",
   "execution_count": 76,
   "outputs": [
    {
     "data": {
      "text/plain": "<Figure size 432x288 with 1 Axes>",
      "image/png": "[encoded data removed]"
     },
     "metadata": {
      "needs_background": "light"
     },
     "output_type": "display_data"
    }
   ],
   "source": [
    "assignPointTOClusters(clusters)\n",
    "plotCluster(clusters)\n",
    "updateCluster(clusters)"
   ],
   "metadata": {
    "collapsed": false,
    "pycharm": {
     "name": "#%%\n"
    }
   }
  }
 ],
 "metadata": {
  "kernelspec": {
   "display_name": "Python 3",
   "language": "python",
   "name": "python3"
  },
  "language_info": {
   "codemirror_mode": {
    "name": "ipython",
    "version": 2
   },
   "file_extension": ".py",
   "mimetype": "text/x-python",
   "name": "python",
   "nbconvert_exporter": "python",
   "pygments_lexer": "ipython2",
   "version": "2.7.6"
  }
 },
 "nbformat": 4,
 "nbformat_minor": 0
}