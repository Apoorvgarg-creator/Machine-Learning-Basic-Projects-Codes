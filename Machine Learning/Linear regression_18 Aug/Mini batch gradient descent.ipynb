{
 "cells": [
  {
   "cell_type": "code",
   "execution_count": null,
   "metadata": {
    "collapsed": true
   },
   "outputs": [],
   "source": [
    "import numpy as np\n",
    "import matplotlib.pyplot as plt\n",
    "from sklearn.datasets import load_boston,make_regression"
   ]
  },
  {
   "cell_type": "code",
   "execution_count": 22,
   "outputs": [],
   "source": [
    "# Get or Create a dataset\n",
    "X,y = make_regression(n_samples=10000,n_features=20,n_informative=20,noise=10,random_state=1)\n",
    "\n",
    "# Normalisation\n",
    "u = np.mean(X,axis=0)\n",
    "std = np.std(X,axis=0 )\n",
    "X = (X - u)/std"
   ],
   "metadata": {
    "collapsed": false,
    "pycharm": {
     "name": "#%%\n"
    }
   }
  },
  {
   "cell_type": "code",
   "execution_count": 23,
   "outputs": [
    {
     "name": "stdout",
     "output_type": "stream",
     "text": [
      "(10000, 21)\n",
      "(10000,)\n"
     ]
    }
   ],
   "source": [
    "# Add a column of 1 for vectorization\n",
    "one = np.ones((X.shape[0],1))\n",
    "X = np.hstack((one,X))\n",
    "print(X.shape)\n",
    "print(y.shape)"
   ],
   "metadata": {
    "collapsed": false,
    "pycharm": {
     "name": "#%%\n"
    }
   }
  },
  {
   "cell_type": "code",
   "execution_count": 24,
   "outputs": [],
   "source": [
    "def hypothesis(X,theta):\n",
    "    return np.dot(X,theta)\n",
    "\n",
    "def error(X,y,theta):\n",
    "    m = X.shape[0]\n",
    "    y_ = hypothesis(X,theta)\n",
    "    e = np.sum((y_ - y)**2)\n",
    "    return e/m\n",
    "\n",
    "def gradient(X,y,theta):\n",
    "    grad = np.zeros((X.shape[1],))\n",
    "    y_ = hypothesis(X,theta)\n",
    "    grad = np.dot(X.T,(y_ - y))\n",
    "    return grad/X.shape[0]\n",
    "\n",
    "def mini_batch_gradient_descent(X,y,batch_size=200,learning_rate=0.1,max_iters=100):\n",
    "    theta = np.zeros((X.shape[1],))\n",
    "    error_list = []\n",
    "    data = np.hstack((X,y.reshape(-1,1)))\n",
    "    for i in range(max_iters):\n",
    "\n",
    "        # Mini batch Gradient descent\n",
    "        np.random.shuffle(data)\n",
    "        m = data.shape[0]\n",
    "        total_batches = m//batch_size\n",
    "\n",
    "        for a in range(total_batches):\n",
    "            batch_data = data[a*batch_size : (a+1)*batch_size,:]\n",
    "            x_batch = batch_data[:,:-1]\n",
    "            y_batch = batch_data[:,-1]\n",
    "            batch_gradient =gradient(x_batch,y_batch,theta)\n",
    "            theta = theta - learning_rate*batch_gradient\n",
    "            error_list.append(error(x_batch,y_batch,theta))\n",
    "\n",
    "    return theta,error_list"
   ],
   "metadata": {
    "collapsed": false,
    "pycharm": {
     "name": "#%%\n"
    }
   }
  },
  {
   "cell_type": "code",
   "execution_count": 28,
   "outputs": [
    {
     "data": {
      "text/plain": "<Figure size 576x396 with 1 Axes>",
      "image/png": "[encoded data removed]"
     },
     "metadata": {},
     "output_type": "display_data"
    }
   ],
   "source": [
    "# Mini batch gradient descent\n",
    "theta,error_list = mini_batch_gradient_descent(X,y,batch_size=450,max_iters=100)\n",
    "plt.style.use('seaborn')\n",
    "plt.figure()\n",
    "plt.plot(np.arange(len(error_list)),error_list)\n",
    "plt.show()"
   ],
   "metadata": {
    "collapsed": false,
    "pycharm": {
     "name": "#%%\n"
    }
   }
  },
  {
   "cell_type": "code",
   "execution_count": null,
   "outputs": [],
   "source": [],
   "metadata": {
    "collapsed": false,
    "pycharm": {
     "name": "#%%\n"
    }
   }
  }
 ],
 "metadata": {
  "kernelspec": {
   "display_name": "Python 3",
   "language": "python",
   "name": "python3"
  },
  "language_info": {
   "codemirror_mode": {
    "name": "ipython",
    "version": 2
   },
   "file_extension": ".py",
   "mimetype": "text/x-python",
   "name": "python",
   "nbconvert_exporter": "python",
   "pygments_lexer": "ipython2",
   "version": "2.7.6"
  }
 },
 "nbformat": 4,
 "nbformat_minor": 0
}