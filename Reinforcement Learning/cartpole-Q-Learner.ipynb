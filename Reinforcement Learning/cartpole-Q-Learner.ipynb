{
 "cells": [
  {
   "cell_type": "markdown",
   "metadata": {},
   "source": [
    "### Reinforcement Learning Tutorial"
   ]
  },
  {
   "cell_type": "markdown",
   "metadata": {},
   "source": [
    "Some common terms\n",
    "- Agent\n",
    "- Environment\n",
    "- Action,rewards and classification"
   ]
  },
  {
   "cell_type": "code",
   "execution_count": 1,
   "metadata": {},
   "outputs": [
    {
     "name": "stdout",
     "output_type": "stream",
     "text": [
      "Requirement already satisfied: gym in /Users/apoorvgarg/opt/anaconda3/lib/python3.8/site-packages (0.17.3)\n",
      "Requirement already satisfied: pyglet<=1.5.0,>=1.4.0 in /Users/apoorvgarg/opt/anaconda3/lib/python3.8/site-packages (from gym) (1.5.0)\n",
      "Requirement already satisfied: scipy in /Users/apoorvgarg/opt/anaconda3/lib/python3.8/site-packages (from gym) (1.4.1)\n",
      "Requirement already satisfied: cloudpickle<1.7.0,>=1.2.0 in /Users/apoorvgarg/opt/anaconda3/lib/python3.8/site-packages (from gym) (1.5.0)\n",
      "Requirement already satisfied: numpy>=1.10.4 in /Users/apoorvgarg/opt/anaconda3/lib/python3.8/site-packages (from gym) (1.18.5)\n",
      "Requirement already satisfied: future in /Users/apoorvgarg/opt/anaconda3/lib/python3.8/site-packages (from pyglet<=1.5.0,>=1.4.0->gym) (0.18.2)\n"
     ]
    }
   ],
   "source": [
    "!pip install gym\n"
   ]
  },
  {
   "cell_type": "code",
   "execution_count": 2,
   "metadata": {},
   "outputs": [],
   "source": [
    "import gym"
   ]
  },
  {
   "cell_type": "code",
   "execution_count": 3,
   "metadata": {},
   "outputs": [],
   "source": [
    "# Create environment\n",
    "\n",
    "env = gym.make('CartPole-v0')\n"
   ]
  },
  {
   "cell_type": "markdown",
   "metadata": {},
   "source": [
    "### Comes with certain import methods and attributes\n",
    "- action_space\n",
    "- Observation_space\n",
    "- reset()\n",
    "- step()\n",
    "- render()"
   ]
  },
  {
   "cell_type": "code",
   "execution_count": 4,
   "metadata": {},
   "outputs": [
    {
     "data": {
      "text/plain": [
       "array([-0.01873481,  0.03078699, -0.01476466,  0.0064216 ])"
      ]
     },
     "execution_count": 4,
     "metadata": {},
     "output_type": "execute_result"
    }
   ],
   "source": [
    "env.reset()     # returns the game to initial state"
   ]
  },
  {
   "cell_type": "code",
   "execution_count": 5,
   "metadata": {},
   "outputs": [],
   "source": [
    "# Atari game --> usual size 210x160x3 Tensor (RGB)"
   ]
  },
  {
   "cell_type": "code",
   "execution_count": 6,
   "metadata": {},
   "outputs": [
    {
     "name": "stderr",
     "output_type": "stream",
     "text": [
      "/Users/apoorvgarg/opt/anaconda3/lib/python3.8/site-packages/gym/logger.py:30: UserWarning: \u001b[33mWARN: You are calling 'step()' even though this environment has already returned done = True. You should always call 'reset()' once you receive 'done = True' -- any further steps are undefined behavior.\u001b[0m\n",
      "  warnings.warn(colorize('%s: %s'%('WARN', msg % args), 'yellow'))\n"
     ]
    }
   ],
   "source": [
    "for _ in range(1000):\n",
    "    env.step(env.action_space.sample())\n",
    "    env.render()\n",
    "env.close()"
   ]
  },
  {
   "cell_type": "code",
   "execution_count": 7,
   "metadata": {},
   "outputs": [
    {
     "data": {
      "text/plain": [
       "2"
      ]
     },
     "execution_count": 7,
     "metadata": {},
     "output_type": "execute_result"
    }
   ],
   "source": [
    "env.action_space.n"
   ]
  },
  {
   "cell_type": "code",
   "execution_count": 8,
   "metadata": {},
   "outputs": [
    {
     "data": {
      "text/plain": [
       "4"
      ]
     },
     "execution_count": 8,
     "metadata": {},
     "output_type": "execute_result"
    }
   ],
   "source": [
    "env.observation_space.shape[0]"
   ]
  },
  {
   "cell_type": "code",
   "execution_count": 9,
   "metadata": {},
   "outputs": [],
   "source": [
    "for _ in range(1000):\n",
    "    env.step(env.action_space.sample())\n",
    "    env.render()\n",
    "env.close()"
   ]
  },
  {
   "cell_type": "markdown",
   "metadata": {},
   "source": [
    "### 2. Playing games with a Random strategy\n",
    "- Game Episode\n",
    "- step() function in more details\n",
    "- game over?"
   ]
  },
  {
   "cell_type": "markdown",
   "metadata": {},
   "source": [
    "**Game Episode** --> Entire game play \n",
    "- starting till end(game over)\n",
    " \n"
   ]
  },
  {
   "cell_type": "markdown",
   "metadata": {},
   "source": [
    "- We will play the game with random steps and then compute score\n",
    "- We will also learn how to play multiple game episode"
   ]
  },
  {
   "cell_type": "code",
   "execution_count": 10,
   "metadata": {},
   "outputs": [
    {
     "name": "stdout",
     "output_type": "stream",
     "text": [
      "Game episode:0/20 High score :13\n",
      "Game episode:1/20 High score :14\n",
      "Game episode:2/20 High score :20\n",
      "Game episode:3/20 High score :27\n",
      "Game episode:4/20 High score :11\n",
      "Game episode:5/20 High score :11\n",
      "Game episode:6/20 High score :15\n",
      "Game episode:7/20 High score :27\n",
      "Game episode:8/20 High score :15\n",
      "Game episode:10/20 High score :28\n",
      "Game episode:11/20 High score :41\n",
      "Game episode:12/20 High score :23\n",
      "Game episode:13/20 High score :9\n",
      "Game episode:14/20 High score :26\n",
      "Game episode:15/20 High score :37\n",
      "Game episode:16/20 High score :33\n",
      "Game episode:17/20 High score :27\n",
      "Game episode:18/20 High score :12\n",
      "Game episode:19/20 High score :20\n",
      "All 20 ep.s are over!!\n"
     ]
    }
   ],
   "source": [
    "for e in range(20): # episode\n",
    "    # Play 20 ep.\n",
    "    observation = env.reset()\n",
    "    for t in range(50):\n",
    "        env.render()\n",
    "        action = env.action_space.sample()\n",
    "        observation,reward,done,other_info = env.step(action)\n",
    "        \n",
    "        if done:\n",
    "            # Game ep. is over\n",
    "            print(\"Game episode:{}/{} High score :{}\".format(e,20,t))\n",
    "            break\n",
    "\n",
    "env.close()\n",
    "print(\"All 20 ep.s are over!!\")"
   ]
  },
  {
   "cell_type": "markdown",
   "metadata": {},
   "source": [
    "##### Step()\n",
    "\n",
    "step function returns -->\n",
    "\n",
    "- observation\n",
    "- reward\n",
    "- done\n",
    "- info"
   ]
  },
  {
   "cell_type": "markdown",
   "metadata": {},
   "source": [
    "## 3. Q-Learning\n"
   ]
  },
  {
   "cell_type": "code",
   "execution_count": 60,
   "metadata": {},
   "outputs": [],
   "source": [
    "from keras.layers import Dense\n",
    "from matplotlib import pyplot as plt\n",
    "from keras.models import Sequential\n",
    "from keras.optimizers import Adam\n",
    "import numpy as np\n",
    "import os\n",
    "from collections import deque\n",
    "import random"
   ]
  },
  {
   "cell_type": "code",
   "execution_count": null,
   "metadata": {},
   "outputs": [],
   "source": [
    "class Agent:\n",
    "    def __init__(self,state_size,action_size):\n",
    "        self.state_size = state_size;\n",
    "        self.action_size = action_size\n",
    "        self.memory = deque(maxlen=2000)\n",
    "        self.gamma = 0.95 # Discount factor\n",
    "        # Exploration  and exploitation tradeoff\n",
    "        # Exploration : Good in the beginning --> helps you to try various random things\n",
    "        # exploitation : sample good experiences from the past(memory) --> good in the end\n",
    "        # To maintain the tradeoff \n",
    "        self.epsilon = 1.0 # 100% Random exploration in the beginning\n",
    "        self.epsilon_decay = 0.995 \n",
    "        self.epsilon_min = 0.01 # this means 1% random actions will be taken all the times no matter the past experience\n",
    "        self.learning_rate = 0.001\n",
    "        self.model = self._create_model()\n",
    "        \n",
    "    def _create_model(self):\n",
    "        model = Sequential()\n",
    "        model.add(Dense(24,input_dim=self.state_size,activation='relu'))\n",
    "        model.add(Dense(24,activation='relu'))\n",
    "        model.add(Dense(self.action_size,activation='linear'))\n",
    "        model.compile(loss='mse',optimizer=Adam(lr=0.001))\n",
    "        \n",
    "        return model\n",
    "\n",
    "    def remember(self,state,action,reward,next_state,done):\n",
    "        # Remember past experience\n",
    "        self.memory.append((state,action,reward,next_state,done))\n",
    "    \n",
    "    def act(self,state):\n",
    "        #Sampling according to the Epsilon greedy Method\n",
    "        if np.random.rand() <= self.epsilon:\n",
    "            # Take a random action\n",
    "            return random.randrange(self.action_size)\n",
    "        \n",
    "        # Ask the model to give me the suitable action\n",
    "        return np.argmax(model.predict(state)[0])\n",
    "    \n",
    "    def train(self,batch_size):\n",
    "        # Training using a replay buffer\n",
    "        minibatch = random.sample(self.memory,batch_size)\n",
    "        for experience in minibatch:\n",
    "            state,action,reward,next_state,done = experience\n",
    "            # X,Y : state, expected reward\n",
    "            if not done :\n",
    "                # Game is not done yet, bellman eqn to approx the target_value of the reward\n",
    "                target = reward + self.gamma*np.amax(self.model.predict(next_state)[0])\n",
    "            else:\n",
    "                target = reward\n",
    "                \n",
    "            target_f = self.model.predict(state)\n",
    "            target_f[0][action] = target\n",
    "            # X= state, Y= target\n",
    "            self.model.fit(state,target_f,epochs=1,verbose=0)\n",
    "            \n",
    "        if self.epsilon > self.epsilon_min :\n",
    "            self.epsilon *= self.epsilon_decay\n",
    "            \n",
    "\n",
    "    def load(self,name):\n",
    "        self.model.load_weights(name)\n",
    "    \n",
    "    def save(self,name):\n",
    "        self.model.save_weights(name)   "
   ]
  },
  {
   "cell_type": "code",
   "execution_count": null,
   "metadata": {},
   "outputs": [],
   "source": [
    "model = Sequential()\n",
    "model.add(Dense(24,input_dim=4,activation='relu'))\n",
    "model.add(Dense(24,activation='relu'))\n",
    "model.add(Dense(2,activation='linear'))\n",
    "model.compile(loss='mse',optimizer=Adam(lr=0.001))\n",
    "        "
   ]
  },
  {
   "cell_type": "code",
   "execution_count": null,
   "metadata": {},
   "outputs": [],
   "source": [
    "x = np.random.randn(1,4)  # Input\n",
    "model.predict(x)  # Model rewards on the action"
   ]
  },
  {
   "cell_type": "markdown",
   "metadata": {},
   "source": [
    "Training tht DQN Agent ( deep Q-leaner )\n"
   ]
  },
  {
   "cell_type": "code",
   "execution_count": null,
   "metadata": {},
   "outputs": [],
   "source": [
    "n_episodes = 1000\n",
    "\n",
    "output_dir = 'cartpole_model/'\n"
   ]
  },
  {
   "cell_type": "code",
   "execution_count": null,
   "metadata": {},
   "outputs": [],
   "source": [
    "agent = Agent(state_size=4,action_size=2)\n",
    "done = False\n",
    "state_size = 4\n",
    "action_size = 2"
   ]
  },
  {
   "cell_type": "code",
   "execution_count": null,
   "metadata": {},
   "outputs": [],
   "source": [
    "for e in range(n_episodes):\n",
    "    state = env.reset()\n",
    "    state = np.reshape(state,[1,agent.state_size])\n",
    "    batch_size = 32\n",
    "    \n",
    "    for time in range(500):\n",
    "        env.render()\n",
    "        action = agent.act(state) # action is 0 or 1\n",
    "        next_state, reward, done,other_info = env.step(action)\n",
    "        reward = reward if not done else -10\n",
    "        next_state = np.reshape(next_state,[1,state_size])\n",
    "        agent.remember(state,action,reward,next_state,done)  # Experience for the agent\n",
    "        \n",
    "        if done :\n",
    "            print(\"Game episode:{}/{} High score :{} Exploration rate:{:.2}\".format(e,20,t,agent.epsilon))\n",
    "            break\n",
    "        \n",
    "    if len(agent.memory)>batch_size:\n",
    "        agent.train(batch_size)\n",
    "        \n",
    "    if e%50 == 0:\n",
    "        agent.save(output_dir+\"weights_\"+'{:04d}'.format(e)+\".hdf5\")\n",
    "    \n",
    "print(\"Deep Q-Learner Model Trained\")\n",
    "env.close()"
   ]
  },
  {
   "cell_type": "code",
   "execution_count": null,
   "metadata": {},
   "outputs": [],
   "source": []
  },
  {
   "cell_type": "code",
   "execution_count": null,
   "metadata": {},
   "outputs": [],
   "source": []
  }
 ],
 "metadata": {
  "kernelspec": {
   "display_name": "Python 3",
   "language": "python",
   "name": "python3"
  },
  "language_info": {
   "codemirror_mode": {
    "name": "ipython",
    "version": 3
   },
   "file_extension": ".py",
   "mimetype": "text/x-python",
   "name": "python",
   "nbconvert_exporter": "python",
   "pygments_lexer": "ipython3",
   "version": "3.8.3"
  }
 },
 "nbformat": 4,
 "nbformat_minor": 4
}
