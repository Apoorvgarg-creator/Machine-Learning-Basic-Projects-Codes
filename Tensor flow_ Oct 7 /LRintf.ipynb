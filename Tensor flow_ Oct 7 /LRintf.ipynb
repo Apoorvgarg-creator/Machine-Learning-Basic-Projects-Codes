{
 "cells": [
  {
   "cell_type": "code",
   "execution_count": 2,
   "metadata": {
    "collapsed": true
   },
   "outputs": [],
   "source": [
    "import numpy as np\n",
    "import tensorflow as tf\n",
    "from sklearn.datasets import load_boston\n",
    "from sklearn.model_selection import train_test_split"
   ]
  },
  {
   "cell_type": "code",
   "execution_count": 3,
   "outputs": [],
   "source": [
    "boston = load_boston()"
   ],
   "metadata": {
    "collapsed": false,
    "pycharm": {
     "name": "#%%\n"
    }
   }
  },
  {
   "cell_type": "code",
   "execution_count": 4,
   "outputs": [],
   "source": [
    "features = np.array( boston.data)\n",
    "labels = np.array( boston.target)"
   ],
   "metadata": {
    "collapsed": false,
    "pycharm": {
     "name": "#%%\n"
    }
   }
  },
  {
   "cell_type": "code",
   "execution_count": 5,
   "outputs": [
    {
     "name": "stdout",
     "output_type": "stream",
     "text": [
      "(506, 13) (506,)\n"
     ]
    }
   ],
   "source": [
    "print(features.shape, labels.shape)"
   ],
   "metadata": {
    "collapsed": false,
    "pycharm": {
     "name": "#%%\n"
    }
   }
  },
  {
   "cell_type": "code",
   "execution_count": 6,
   "outputs": [],
   "source": [
    "labels = np.reshape(labels,(-1,1))"
   ],
   "metadata": {
    "collapsed": false,
    "pycharm": {
     "name": "#%%\n"
    }
   }
  },
  {
   "cell_type": "code",
   "execution_count": 7,
   "outputs": [
    {
     "name": "stdout",
     "output_type": "stream",
     "text": [
      "(506, 1)\n"
     ]
    }
   ],
   "source": [
    "print(labels.shape)"
   ],
   "metadata": {
    "collapsed": false,
    "pycharm": {
     "name": "#%%\n"
    }
   }
  },
  {
   "cell_type": "code",
   "execution_count": 8,
   "outputs": [],
   "source": [
    "def normalise(data):\n",
    "    mean = np.mean(data)\n",
    "    std = np.std(data)\n",
    "    normalise_data = (data - mean)/std\n",
    "\n",
    "    return normalise_data"
   ],
   "metadata": {
    "collapsed": false,
    "pycharm": {
     "name": "#%%\n"
    }
   }
  },
  {
   "cell_type": "code",
   "execution_count": 9,
   "outputs": [],
   "source": [
    "features = normalise(data=features)"
   ],
   "metadata": {
    "collapsed": false,
    "pycharm": {
     "name": "#%%\n"
    }
   }
  },
  {
   "cell_type": "code",
   "execution_count": 10,
   "outputs": [
    {
     "data": {
      "text/plain": "(506, 13)"
     },
     "execution_count": 10,
     "metadata": {},
     "output_type": "execute_result"
    }
   ],
   "source": [
    "features.shape\n"
   ],
   "metadata": {
    "collapsed": false,
    "pycharm": {
     "name": "#%%\n"
    }
   }
  },
  {
   "cell_type": "code",
   "execution_count": 11,
   "outputs": [],
   "source": [
    "labels =normalise(labels)\n"
   ],
   "metadata": {
    "collapsed": false,
    "pycharm": {
     "name": "#%%\n"
    }
   }
  },
  {
   "cell_type": "code",
   "execution_count": 12,
   "outputs": [],
   "source": [
    "bias_feature = np.ones((features.shape[0],1))"
   ],
   "metadata": {
    "collapsed": false,
    "pycharm": {
     "name": "#%%\n"
    }
   }
  },
  {
   "cell_type": "code",
   "execution_count": 13,
   "outputs": [],
   "source": [
    "features = np.hstack((bias_feature,features))"
   ],
   "metadata": {
    "collapsed": false,
    "pycharm": {
     "name": "#%%\n"
    }
   }
  },
  {
   "cell_type": "code",
   "execution_count": 14,
   "outputs": [
    {
     "data": {
      "text/plain": "(506, 14)"
     },
     "execution_count": 14,
     "metadata": {},
     "output_type": "execute_result"
    }
   ],
   "source": [
    "features.shape"
   ],
   "metadata": {
    "collapsed": false,
    "pycharm": {
     "name": "#%%\n"
    }
   }
  },
  {
   "cell_type": "code",
   "execution_count": 15,
   "outputs": [],
   "source": [
    "X_train, X_test, Y_train, Y_test = train_test_split(features, labels, test_size=0.2)"
   ],
   "metadata": {
    "collapsed": false,
    "pycharm": {
     "name": "#%%\n"
    }
   }
  },
  {
   "cell_type": "markdown",
   "source": [
    "## build our model"
   ],
   "metadata": {
    "collapsed": false,
    "pycharm": {
     "name": "#%% md\n"
    }
   }
  },
  {
   "cell_type": "code",
   "execution_count": 16,
   "outputs": [],
   "source": [
    "n_samples = features.shape[0]\n",
    "n_features = features.shape[1]\n",
    "num_epochs = 20"
   ],
   "metadata": {
    "collapsed": false,
    "pycharm": {
     "name": "#%%\n"
    }
   }
  },
  {
   "cell_type": "code",
   "execution_count": 17,
   "outputs": [
    {
     "name": "stdout",
     "output_type": "stream",
     "text": [
      "WARNING:tensorflow:From /Users/apoorvgarg/PycharmProjects/CB_lecture/venv/lib/python3.8/site-packages/tensorflow/python/compat/v2_compat.py:96: disable_resource_variables (from tensorflow.python.ops.variable_scope) is deprecated and will be removed in a future version.\n",
      "Instructions for updating:\n",
      "non-resource variables are not supported in the long term\n"
     ]
    }
   ],
   "source": [
    "import tensorflow.compat.v1 as tf\n",
    "tf.disable_v2_behavior()"
   ],
   "metadata": {
    "collapsed": false,
    "pycharm": {
     "name": "#%%\n"
    }
   }
  },
  {
   "cell_type": "code",
   "execution_count": 18,
   "outputs": [],
   "source": [
    "X = tf.placeholder( dtype=tf.float32, shape=[None, n_features])\n",
    "Y = tf.placeholder( dtype=tf.float32,shape=[None,1])"
   ],
   "metadata": {
    "collapsed": false,
    "pycharm": {
     "name": "#%%\n"
    }
   }
  },
  {
   "cell_type": "code",
   "execution_count": 19,
   "outputs": [
    {
     "name": "stdout",
     "output_type": "stream",
     "text": [
      "<tf.Variable 'Variable:0' shape=(14, 1) dtype=float32_ref>\n"
     ]
    }
   ],
   "source": [
    "w = tf.Variable(tf.random_normal(shape=(n_features,1)))\n",
    "print(w)"
   ],
   "metadata": {
    "collapsed": false,
    "pycharm": {
     "name": "#%%\n"
    }
   }
  },
  {
   "cell_type": "code",
   "execution_count": 20,
   "outputs": [],
   "source": [
    "y_pred = tf.matmul(X,w)"
   ],
   "metadata": {
    "collapsed": false,
    "pycharm": {
     "name": "#%%\n"
    }
   }
  },
  {
   "cell_type": "code",
   "execution_count": 21,
   "outputs": [],
   "source": [
    "cost = tf.reduce_mean( tf.square(y_pred - Y))"
   ],
   "metadata": {
    "collapsed": false,
    "pycharm": {
     "name": "#%%\n"
    }
   }
  },
  {
   "cell_type": "code",
   "execution_count": 22,
   "outputs": [],
   "source": [
    "opt = tf.train.GradientDescentOptimizer(learning_rate=0.01).minimize(cost)"
   ],
   "metadata": {
    "collapsed": false,
    "pycharm": {
     "name": "#%%\n"
    }
   }
  },
  {
   "cell_type": "code",
   "execution_count": 24,
   "outputs": [
    {
     "name": "stdout",
     "output_type": "stream",
     "text": [
      "Epoch1\n",
      "\n",
      "Training loss in 1.2192 and Testing loss is 1.3435\n",
      "-x-x-x-x-x-\n",
      "Epoch2\n",
      "\n",
      "Training loss in 1.0920 and Testing loss is 1.2012\n",
      "-x-x-x-x-x-\n",
      "Epoch3\n",
      "\n",
      "Training loss in 1.0183 and Testing loss is 1.1156\n",
      "-x-x-x-x-x-\n",
      "Epoch4\n",
      "\n",
      "Training loss in 0.9746 and Testing loss is 1.0623\n",
      "-x-x-x-x-x-\n",
      "Epoch5\n",
      "\n",
      "Training loss in 0.9476 and Testing loss is 1.0276\n",
      "-x-x-x-x-x-\n",
      "Epoch6\n",
      "\n",
      "Training loss in 0.9300 and Testing loss is 1.0038\n",
      "-x-x-x-x-x-\n",
      "Epoch7\n",
      "\n",
      "Training loss in 0.9179 and Testing loss is 0.9863\n",
      "-x-x-x-x-x-\n",
      "Epoch8\n",
      "\n",
      "Training loss in 0.9088 and Testing loss is 0.9727\n",
      "-x-x-x-x-x-\n",
      "Epoch9\n",
      "\n",
      "Training loss in 0.9016 and Testing loss is 0.9615\n",
      "-x-x-x-x-x-\n",
      "Epoch10\n",
      "\n",
      "Training loss in 0.8955 and Testing loss is 0.9519\n",
      "-x-x-x-x-x-\n",
      "Epoch11\n",
      "\n",
      "Training loss in 0.8901 and Testing loss is 0.9433\n",
      "-x-x-x-x-x-\n",
      "Epoch12\n",
      "\n",
      "Training loss in 0.8852 and Testing loss is 0.9355\n",
      "-x-x-x-x-x-\n",
      "Epoch13\n",
      "\n",
      "Training loss in 0.8806 and Testing loss is 0.9282\n",
      "-x-x-x-x-x-\n",
      "Epoch14\n",
      "\n",
      "Training loss in 0.8763 and Testing loss is 0.9214\n",
      "-x-x-x-x-x-\n",
      "Epoch15\n",
      "\n",
      "Training loss in 0.8722 and Testing loss is 0.9150\n",
      "-x-x-x-x-x-\n",
      "Epoch16\n",
      "\n",
      "Training loss in 0.8683 and Testing loss is 0.9089\n",
      "-x-x-x-x-x-\n",
      "Epoch17\n",
      "\n",
      "Training loss in 0.8646 and Testing loss is 0.9030\n",
      "-x-x-x-x-x-\n",
      "Epoch18\n",
      "\n",
      "Training loss in 0.8610 and Testing loss is 0.8975\n",
      "-x-x-x-x-x-\n",
      "Epoch19\n",
      "\n",
      "Training loss in 0.8576 and Testing loss is 0.8921\n",
      "-x-x-x-x-x-\n",
      "Epoch20\n",
      "\n",
      "Training loss in 0.8544 and Testing loss is 0.8870\n",
      "-x-x-x-x-x-\n"
     ]
    }
   ],
   "source": [
    "with tf.compat.v1.Session() as sess:\n",
    "    sess.run( tf.global_variables_initializer() )\n",
    "\n",
    "    for epoch in range(num_epochs):\n",
    "        sess.run( opt, feed_dict = {\n",
    "            X : X_train,\n",
    "            Y : Y_train\n",
    "        })\n",
    "        train_loss = sess.run(cost, feed_dict ={\n",
    "            X : X_train,\n",
    "            Y : Y_train\n",
    "        })\n",
    "        test_loss = sess.run(cost, feed_dict={\n",
    "            X : X_test,\n",
    "            Y : Y_test\n",
    "        })\n",
    "        print(\"Epoch{}\\n\".format(epoch+1))\n",
    "        print(\"Training loss in {:.04f} and Testing loss is {:.04f}\".format(train_loss, test_loss))\n",
    "        print(\"-x-x-x-x-x-\")"
   ],
   "metadata": {
    "collapsed": false,
    "pycharm": {
     "name": "#%%\n"
    }
   }
  },
  {
   "cell_type": "code",
   "execution_count": 23,
   "outputs": [],
   "source": [],
   "metadata": {
    "collapsed": false,
    "pycharm": {
     "name": "#%%"
    }
   }
  },
  {
   "cell_type": "code",
   "execution_count": null,
   "outputs": [],
   "source": [],
   "metadata": {
    "collapsed": false,
    "pycharm": {
     "name": "#%%\n"
    }
   }
  }
 ],
 "metadata": {
  "kernelspec": {
   "display_name": "Python 3",
   "language": "python",
   "name": "python3"
  },
  "language_info": {
   "codemirror_mode": {
    "name": "ipython",
    "version": 2
   },
   "file_extension": ".py",
   "mimetype": "text/x-python",
   "name": "python",
   "nbconvert_exporter": "python",
   "pygments_lexer": "ipython2",
   "version": "2.7.6"
  }
 },
 "nbformat": 4,
 "nbformat_minor": 0
}