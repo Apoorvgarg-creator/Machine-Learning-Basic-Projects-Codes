{
 "cells": [
  {
   "cell_type": "code",
   "execution_count": 1,
   "metadata": {},
   "outputs": [
    {
     "name": "stdout",
     "output_type": "stream",
     "text": [
      "Requirement already satisfied: creme in /Users/apoorvgarg/opt/anaconda3/lib/python3.8/site-packages (0.6.1)\n",
      "Requirement already satisfied: numpy>=1.18.1 in /Users/apoorvgarg/opt/anaconda3/lib/python3.8/site-packages (from creme) (1.18.5)\n",
      "Requirement already satisfied: scipy>=1.4.1 in /Users/apoorvgarg/opt/anaconda3/lib/python3.8/site-packages (from creme) (1.4.1)\n",
      "Requirement already satisfied: pandas>=1.0.1 in /Users/apoorvgarg/opt/anaconda3/lib/python3.8/site-packages (from creme) (1.0.5)\n",
      "Requirement already satisfied: mmh3==2.5.1 in /Users/apoorvgarg/opt/anaconda3/lib/python3.8/site-packages (from creme) (2.5.1)\n",
      "Requirement already satisfied: python-dateutil>=2.6.1 in /Users/apoorvgarg/opt/anaconda3/lib/python3.8/site-packages (from pandas>=1.0.1->creme) (2.8.1)\n",
      "Requirement already satisfied: pytz>=2017.2 in /Users/apoorvgarg/opt/anaconda3/lib/python3.8/site-packages (from pandas>=1.0.1->creme) (2020.1)\n",
      "Requirement already satisfied: six>=1.5 in /Users/apoorvgarg/opt/anaconda3/lib/python3.8/site-packages (from python-dateutil>=2.6.1->pandas>=1.0.1->creme) (1.15.0)\n"
     ]
    }
   ],
   "source": [
    "!pip install creme"
   ]
  },
  {
   "cell_type": "code",
   "execution_count": 5,
   "metadata": {},
   "outputs": [],
   "source": [
    "import creme, math\n",
    "from creme import compose\n",
    "from creme import feature_extraction\n",
    "from creme import naive_bayes"
   ]
  },
  {
   "cell_type": "code",
   "execution_count": 3,
   "metadata": {},
   "outputs": [],
   "source": [
    "# List of tuple \n",
    "# creme accepts input as list of tuple\n",
    "docs = [ ('Chinese beijing Chinese','yes'),\n",
    "       ('Chinese Chinese Shanghai','yes'),\n",
    "       ('Chinese Macao','yes'),\n",
    "       ('Tokyo Japan Chinese','no')\n",
    "       ]"
   ]
  },
  {
   "cell_type": "code",
   "execution_count": 4,
   "metadata": {},
   "outputs": [
    {
     "data": {
      "text/plain": [
       "[('Chinese beijing Chinese', 'yes'),\n",
       " ('Chinese Chinese Shanghai', 'yes'),\n",
       " ('Chinese Macao', 'yes'),\n",
       " ('Tokyo Japan Chinese', 'no')]"
      ]
     },
     "execution_count": 4,
     "metadata": {},
     "output_type": "execute_result"
    }
   ],
   "source": [
    "docs "
   ]
  },
  {
   "cell_type": "code",
   "execution_count": 6,
   "metadata": {},
   "outputs": [],
   "source": [
    "model = compose.Pipeline(\n",
    "    ('tokenize', feature_extraction.BagOfWords(lowercase=False)),\n",
    "    ('nb',naive_bayes.MultinomialNB(alpha=1))\n",
    ")"
   ]
  },
  {
   "cell_type": "code",
   "execution_count": 7,
   "metadata": {},
   "outputs": [],
   "source": [
    "for sentence, label in docs:\n",
    "    model = model.fit_one(sentence,label)"
   ]
  },
  {
   "cell_type": "code",
   "execution_count": 8,
   "metadata": {},
   "outputs": [],
   "source": [
    "new_unseen_text = 'Tokyo india'"
   ]
  },
  {
   "cell_type": "code",
   "execution_count": 9,
   "metadata": {},
   "outputs": [
    {
     "data": {
      "text/plain": [
       "'no'"
      ]
     },
     "execution_count": 9,
     "metadata": {},
     "output_type": "execute_result"
    }
   ],
   "source": [
    "model.predict_one(new_unseen_text)"
   ]
  },
  {
   "cell_type": "code",
   "execution_count": null,
   "metadata": {},
   "outputs": [],
   "source": []
  },
  {
   "cell_type": "markdown",
   "metadata": {},
   "source": [
    "### Training on a new Data and new category"
   ]
  },
  {
   "cell_type": "code",
   "execution_count": 17,
   "metadata": {},
   "outputs": [
    {
     "data": {
      "text/plain": [
       "Pipeline (\n",
       "  BagOfWords (\n",
       "    on=None\n",
       "    strip_accents=True\n",
       "    lowercase=False\n",
       "    preprocessor=None\n",
       "    tokenizer=<built-in method findall of re.Pattern object at 0x7fc7f4fef6b0>\n",
       "    ngram_range=(1, 1)\n",
       "  ),\n",
       "  MultinomialNB (\n",
       "    alpha=1\n",
       "  )\n",
       ")"
      ]
     },
     "execution_count": 17,
     "metadata": {},
     "output_type": "execute_result"
    }
   ],
   "source": [
    "model.fit_one('France Africa','may be')"
   ]
  },
  {
   "cell_type": "code",
   "execution_count": 19,
   "metadata": {},
   "outputs": [
    {
     "data": {
      "text/plain": [
       "'may be'"
      ]
     },
     "execution_count": 19,
     "metadata": {},
     "output_type": "execute_result"
    }
   ],
   "source": [
    "model.predict_one(\"Africa Delhi\")"
   ]
  },
  {
   "cell_type": "code",
   "execution_count": null,
   "metadata": {},
   "outputs": [],
   "source": []
  }
 ],
 "metadata": {
  "kernelspec": {
   "display_name": "Python 3",
   "language": "python",
   "name": "python3"
  },
  "language_info": {
   "codemirror_mode": {
    "name": "ipython",
    "version": 3
   },
   "file_extension": ".py",
   "mimetype": "text/x-python",
   "name": "python",
   "nbconvert_exporter": "python",
   "pygments_lexer": "ipython3",
   "version": "3.8.3"
  }
 },
 "nbformat": 4,
 "nbformat_minor": 4
}
