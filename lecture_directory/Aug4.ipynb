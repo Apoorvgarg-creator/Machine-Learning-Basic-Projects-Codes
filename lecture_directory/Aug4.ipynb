{
 "cells": [
  {
   "cell_type": "code",
   "execution_count": 4,
   "metadata": {
    "collapsed": true
   },
   "outputs": [
    {
     "name": "stdout",
     "output_type": "stream",
     "text": [
      "(1, 1, 1, 1, 1, 1, 1, 1)\n"
     ]
    }
   ],
   "source": [
    "add= lambda *args:args\n",
    "print(add(1,1,1,1,1,1,1,1))"
   ]
  },
  {
   "cell_type": "code",
   "execution_count": 10,
   "outputs": [
    {
     "data": {
      "text/plain": "[('jatin', 5), ('arnav', 8), ('prateek', 9), ('ram', 10)]"
     },
     "execution_count": 10,
     "metadata": {},
     "output_type": "execute_result"
    }
   ],
   "source": [
    "#sorted function will sort on the basis of the first element of tuple\n",
    "a=[(\"jatin\",5),(\"prateek\",9),(\"ram\",10),(\"arnav\",8)]\n",
    "sorted(a)\n",
    "# sorting on the basis of 2nd element of tuple\n",
    "# sorted? ---> Signature: sorted(iterable, /, *, key=None, reverse=False)\n",
    "# Docstring:\n",
    "# Return a new list containing all items from the iterable in ascending order.\n",
    "#\n",
    "# A custom key function can be supplied to customize the sort order, and the\n",
    "# reverse flag can be set to request the result in descending order.\n",
    "# Type:      builtin_function_or_method\n",
    "sorted(a,key=lambda x: x[1])"
   ],
   "metadata": {
    "collapsed": false,
    "pycharm": {
     "name": "#%%\n"
    }
   }
  },
  {
   "cell_type": "code",
   "execution_count": 7,
   "outputs": [
    {
     "name": "stdout",
     "output_type": "stream",
     "text": [
      "error occured dut to type mismatch\n"
     ]
    }
   ],
   "source": [
    "a=[(\"jatin\",5),(9,\"prateek\"),(10,\"ram\"),(\"arnav\",8)]\n",
    "try:\n",
    "    sorted(a)\n",
    "except:\n",
    "    print(\"error occured dut to type mismatch\")"
   ],
   "metadata": {
    "collapsed": false,
    "pycharm": {
     "name": "#%%\n"
    }
   }
  },
  {
   "cell_type": "code",
   "execution_count": 12,
   "outputs": [
    {
     "name": "stdout",
     "output_type": "stream",
     "text": [
      "1\n",
      "2\n",
      "3 4\n",
      "<class 'tuple'>\n"
     ]
    }
   ],
   "source": [
    "def fun(a,b,*args):\n",
    "    print(a)\n",
    "    print(b)\n",
    "    print(*args)\n",
    "    print(type(args))\n",
    "fun(1,2,3,4)"
   ],
   "metadata": {
    "collapsed": false,
    "pycharm": {
     "name": "#%%\n"
    }
   }
  },
  {
   "cell_type": "code",
   "execution_count": null,
   "outputs": [],
   "source": [],
   "metadata": {
    "collapsed": false,
    "pycharm": {
     "name": "#%%\n"
    }
   }
  }
 ],
 "metadata": {
  "kernelspec": {
   "display_name": "Python 3",
   "language": "python",
   "name": "python3"
  },
  "language_info": {
   "codemirror_mode": {
    "name": "ipython",
    "version": 2
   },
   "file_extension": ".py",
   "mimetype": "text/x-python",
   "name": "python",
   "nbconvert_exporter": "python",
   "pygments_lexer": "ipython2",
   "version": "2.7.6"
  }
 },
 "nbformat": 4,
 "nbformat_minor": 0
}